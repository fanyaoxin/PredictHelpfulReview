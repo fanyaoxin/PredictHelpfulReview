{
 "cells": [
  {
   "cell_type": "code",
   "execution_count": 13,
   "metadata": {
    "button": false,
    "collapsed": false,
    "deletable": true,
    "new_sheet": false,
    "run_control": {
     "read_only": false
    }
   },
   "outputs": [
    {
     "data": {
      "text/plain": [
       "Index(['Unnamed: 0.1', 'Unnamed: 0.1.1', 'business_id', 'cool', 'date',\n",
       "       'funny', 'review_id', 'stars', 'text', 'type', 'useful', 'user_id',\n",
       "       'year', 'month', 'label', 'filtered_text', 'lemmatize_text',\n",
       "       'lemmatize_filtered_text', 'review_all_length',\n",
       "       'review_exceptstop_length', 'noun', 'adj', 'adv', 'verb',\n",
       "       'simple_words', 'complex_words', 'syllables', 'num_sentence',\n",
       "       'error_num', 'fog_index', 'Flesch_reading_ease_score', 'SMOG_index',\n",
       "       'fog_index_simple', 'word_length', 'business_star',\n",
       "       'business_review_count', 'city', 'user_average_stars', 'user_fans',\n",
       "       'user_friends', 'user_received_funny', 'user_received_cool',\n",
       "       'user_received_useful', 'sentiment_score', 'environment_score',\n",
       "       'other_score', 'price_score', 'food_score', 'service_score', 'ex_id',\n",
       "       'useful_label', 'BOW', 'business_avg_star', 'star_deviation',\n",
       "       'user_days_since', 'argumentation_result', 'index', 'fact', 'value',\n",
       "       'testimony', 'policy', 'evidence_reson', 'not_evidence_reason',\n",
       "       'evidence_reason', 'relation_ratio', 'value_ratio', 'testimony_ratio',\n",
       "       'policy_ratio', 'fact_ratio'],\n",
       "      dtype='object')"
      ]
     },
     "execution_count": 13,
     "metadata": {},
     "output_type": "execute_result"
    }
   ],
   "source": [
    "df.columns"
   ]
  },
  {
   "cell_type": "code",
   "execution_count": 2,
   "metadata": {
    "button": false,
    "collapsed": true,
    "deletable": true,
    "new_sheet": false,
    "run_control": {
     "read_only": false
    }
   },
   "outputs": [
    {
     "data": {
      "text/plain": [
       "0     16\n",
       "1      0\n",
       "2      0\n",
       "3      0\n",
       "4      1\n",
       "5      0\n",
       "6      1\n",
       "7      0\n",
       "8      0\n",
       "9      0\n",
       "10     0\n",
       "11     4\n",
       "12     8\n",
       "13     0\n",
       "14     0\n",
       "15     0\n",
       "16     0\n",
       "17     1\n",
       "18     2\n",
       "19     0\n",
       "20     0\n",
       "Name: user_received_funny, dtype: int64"
      ]
     },
     "execution_count": 2,
     "metadata": {},
     "output_type": "execute_result"
    }
   ],
   "source": [
    "\n",
    "df.user_received_funny=df.user_received_funny-1\n",
    "df.user_received_cool=df.user_received_cool-1\n",
    "df.user_received_useful=df.user_received_useful-1\n",
    "df.loc[df.user_received_cool<0,'user_received_cool']=0\n",
    "df.loc[df.user_received_useful<0,'user_received_useful']=0\n",
    "df.loc[df.user_received_funny<0,'user_received_funny']=0\n",
    "df.user_received_funny.ix[:20]"
   ]
  },
  {
   "cell_type": "code",
   "execution_count": 3,
   "metadata": {
    "button": false,
    "collapsed": true,
    "deletable": true,
    "new_sheet": false,
    "run_control": {
     "read_only": false
    }
   },
   "outputs": [],
   "source": [
    "###\n",
    "from sklearn.feature_extraction import text\n",
    "from sklearn.naive_bayes import MultinomialNB\n",
    "from sklearn.ensemble import BaggingClassifier\n",
    "from sklearn.ensemble import AdaBoostClassifier\n",
    "from sklearn.neighbors import KNeighborsClassifier\n",
    "from sklearn.metrics import confusion_matrix\n",
    "import numpy as np\n",
    "import scipy\n",
    "from sklearn.datasets import load_digits\n",
    "from scipy.stats import randint as sp_randint\n",
    "from pprint import pprint\n",
    "from sklearn.pipeline import Pipeline\n",
    "from sklearn.model_selection import train_test_split"
   ]
  },
  {
   "cell_type": "code",
   "execution_count": 24,
   "metadata": {
    "button": false,
    "collapsed": true,
    "deletable": true,
    "new_sheet": false,
    "run_control": {
     "read_only": false
    }
   },
   "outputs": [
    {
     "ename": "NameError",
     "evalue": "name 'df_use' is not defined",
     "output_type": "error",
     "traceback": [
      "\u001b[0;31m---------------------------------------------------------------------------\u001b[0m",
      "\u001b[0;31mNameError\u001b[0m                                 Traceback (most recent call last)",
      "\u001b[0;32m<ipython-input-24-75dc7f0adf32>\u001b[0m in \u001b[0;36m<module>\u001b[0;34m()\u001b[0m\n\u001b[1;32m      3\u001b[0m \t\t\t\t\t('clf',MultinomialNB()),])\n\u001b[1;32m      4\u001b[0m X_train, X_test, y_train, y_test = train_test_split(\n\u001b[0;32m----> 5\u001b[0;31m     df_use.text, df_use.label, test_size=0.33, random_state=42)\n\u001b[0m\u001b[1;32m      6\u001b[0m \u001b[0mtext_clf_MNB\u001b[0m\u001b[0;34m.\u001b[0m\u001b[0mfit\u001b[0m\u001b[0;34m(\u001b[0m\u001b[0mX_train\u001b[0m\u001b[0;34m,\u001b[0m\u001b[0my_train\u001b[0m\u001b[0;34m)\u001b[0m\u001b[0;34m\u001b[0m\u001b[0m\n\u001b[1;32m      7\u001b[0m \u001b[0mpred\u001b[0m\u001b[0;34m=\u001b[0m\u001b[0mtext_clf_MNB\u001b[0m\u001b[0;34m.\u001b[0m\u001b[0mpredict_proba\u001b[0m\u001b[0;34m(\u001b[0m\u001b[0mX_test\u001b[0m\u001b[0;34m)\u001b[0m\u001b[0;34m\u001b[0m\u001b[0m\n",
      "\u001b[0;31mNameError\u001b[0m: name 'df_use' is not defined"
     ]
    }
   ],
   "source": [
    "text_clf_MNB = Pipeline([('vect', text.CountVectorizer()),  \n",
    "\t\t\t\t\t('tfidf',text.TfidfTransformer()),\n",
    "\t\t\t\t\t('clf',MultinomialNB()),])\n",
    "X_train, X_test, y_train, y_test = train_test_split(\n",
    "    df_use.text, df_use.label, test_size=0.33, random_state=42)\n",
    "text_clf_MNB.fit(X_train,y_train)\n",
    "pred=text_clf_MNB.predict_proba(X_test)\n",
    "#metrics.f1_score(y_test,pred)"
   ]
  },
  {
   "cell_type": "code",
   "execution_count": 83,
   "metadata": {
    "button": false,
    "collapsed": true,
    "deletable": true,
    "new_sheet": false,
    "run_control": {
     "read_only": false
    }
   },
   "outputs": [],
   "source": [
    "## feature groups\n",
    "Traditional_features=['review_all_length','stars',\n",
    "                      'review_exceptstop_length','num_sentence',\n",
    "                       'noun', 'adj', 'adv', 'verb','sentiment_score','BOW']\n",
    "Readability_features=['error_num','fog_index','Flesch_reading_ease_score',\n",
    "                     'SMOG_index','fog_index_simple','word_length']\n",
    "Business_features=['business_review_count','business_avg_star', 'star_deviation','business_star']\n",
    "Reviewer_features=['user_average_stars', 'user_fans', 'user_received_funny', 'user_received_cool',\n",
    "       'user_received_useful','user_days_since','month']\n",
    "Aspect_features=['environment_score', 'food_score', 'service_score','other_score','price_score']\n",
    "Argumentation_features=[ \n",
    "        #'fact', 'value',\n",
    "       #'testimony', 'policy',  \n",
    "        'not_evidence_reason',\n",
    "       'evidence_reason', 'relation_ratio', 'value_ratio', 'testimony_ratio',\n",
    "       'policy_ratio', 'fact_ratio']\n",
    "\n"
   ]
  },
  {
   "cell_type": "code",
   "execution_count": 71,
   "metadata": {
    "button": false,
    "collapsed": false,
    "deletable": true,
    "new_sheet": false,
    "run_control": {
     "read_only": false
    }
   },
   "outputs": [
    {
     "data": {
      "text/plain": [
       "39"
      ]
     },
     "execution_count": 71,
     "metadata": {},
     "output_type": "execute_result"
    }
   ],
   "source": [
    "len(ALL)"
   ]
  },
  {
   "cell_type": "code",
   "execution_count": 91,
   "metadata": {
    "button": false,
    "collapsed": false,
    "deletable": true,
    "new_sheet": false,
    "run_control": {
     "read_only": false
    }
   },
   "outputs": [],
   "source": [
    "from time import time\n",
    "from sklearn.model_selection import RandomizedSearchCV\n",
    "from sklearn.ensemble import GradientBoostingClassifier\n",
    "import numpy as np\n",
    "from sklearn import svm\n",
    "from sklearn.ensemble import RandomForestClassifier\n",
    "###report result \n",
    "def report(results, n_top=1):\n",
    "    for i in range(1, n_top+1):\n",
    "        feature_combination = np.flatnonzero(results['rank_test_score'] == i)\n",
    "        for feature in feature_combination:\n",
    "            print(\"best model\")\n",
    "            print(\"Mean validation score: {0:.3f} (std: {1:.3f})\".format(\n",
    "                  results['mean_test_score'][feature],\n",
    "                  results['std_test_score'][feature]))\n",
    "            print(\"Parameters: {0}\".format(results['params'][feature]))\n",
    "    return results['mean_test_score'][feature]\n",
    "\n",
    "def main(df,features):\n",
    "    final_result={}\n",
    "    start = time()\n",
    "    print('Run ')\n",
    "    param_dist = { 'max_depth':range(3,14,2),\n",
    "             'min_samples_split':range(800,1900,200),}\n",
    "    n_iter_search = 20\n",
    "    clf = GradientBoostingClassifier(learning_rate=0.1,n_estimators=40)\n",
    "    random_search = RandomizedSearchCV(clf, param_distributions=param_dist,\n",
    "                                   n_iter=n_iter_search,scoring='f1')\n",
    "    random_search.fit(df[features], df['label'])\n",
    "    print(\"RandomizedSearchCV took %.2f seconds for %d candidates\"\n",
    "          \" parameter settings.\" % ((time() - start), n_iter_search))\n",
    "    print(\"GBDT:\")\n",
    "    final_result['GBDT']=report(random_search.cv_results_)\n",
    "    #print('Cost time:',time()-start)\n",
    "    print(\"finish:GBDT\")\n",
    "    \n",
    "    \n",
    "    param_dist = {'kernel': ['rbf'], 'gamma': [1e-4,1e-5],\n",
    "                     'C': [0.05,0.1,0.2,0.5,1,2]}\n",
    "    # run randomized search\n",
    "    n_iter_search = 10\n",
    "    clf = svm.SVC()\n",
    "    random_search = RandomizedSearchCV(clf, param_distributions=param_dist,\n",
    "                                   n_iter=n_iter_search,scoring='f1')\n",
    "    \n",
    "    start = time()\n",
    "    random_search.fit(df[features], df['label'])\n",
    "    #print('SVM')\n",
    "    print(\"RandomizedSearchCV took %.2f seconds for %d candidates\"\n",
    "      \" parameter settings.\" % ((time() - start), n_iter_search))\n",
    "    print('SVM:')\n",
    "    final_result['SVM']=report(random_search.cv_results_)\n",
    "    \n",
    "    print('finish SVM')\n",
    "    param_dist = {\n",
    "        \"max_depth\": [3, None],\n",
    "              \"min_samples_split\": sp_randint(2, 15),\n",
    "              \"min_samples_leaf\": sp_randint(1, 11),\n",
    "              \"bootstrap\": [True, False],\n",
    "              \"criterion\": [\"gini\", \"entropy\"]}\n",
    "    # run randomized search\n",
    "    n_iter_search = 20\n",
    "    clf = RandomForestClassifier(n_estimators=40)\n",
    "    random_search = RandomizedSearchCV(clf, param_distributions=param_dist,\n",
    "                                   n_iter=n_iter_search,scoring='f1')\n",
    "    \n",
    "    start = time()\n",
    "    random_search.fit(df[features], df['label'])\n",
    "    \n",
    "    print(\"RandomizedSearchCV took %.2f seconds for %d candidates\"\n",
    "      \" parameter settings.\" % ((time() - start), n_iter_search))\n",
    "    print('Random Forest')\n",
    "    final_result['RF']=report(random_search.cv_results_)  \n",
    "    print('finish Random Forest')\n",
    "    return final_result\n",
    "    \n",
    "    "
   ]
  },
  {
   "cell_type": "code",
   "execution_count": 92,
   "metadata": {
    "button": false,
    "collapsed": true,
    "deletable": true,
    "new_sheet": false,
    "run_control": {
     "read_only": false
    }
   },
   "outputs": [],
   "source": [
    "ALL_except_ABO=Traditional_features+Readability_features+Business_features+Reviewer_features+Argumentation_features"
   ]
  },
  {
   "cell_type": "code",
   "execution_count": 93,
   "metadata": {
    "button": false,
    "collapsed": true,
    "deletable": true,
    "new_sheet": false,
    "run_control": {
     "read_only": false
    }
   },
   "outputs": [],
   "source": [
    "ALL_except_ABF=Traditional_features+Readability_features+Business_features+Reviewer_features+Aspect_features"
   ]
  },
  {
   "cell_type": "code",
   "execution_count": 94,
   "metadata": {
    "button": false,
    "collapsed": true,
    "deletable": true,
    "new_sheet": false,
    "run_control": {
     "read_only": false
    }
   },
   "outputs": [],
   "source": [
    "ALL=ALL_except_ABF+Argumentation_features"
   ]
  },
  {
   "cell_type": "code",
   "execution_count": 95,
   "metadata": {
    "button": false,
    "collapsed": true,
    "deletable": true,
    "new_sheet": false,
    "run_control": {
     "read_only": false
    }
   },
   "outputs": [],
   "source": [
    "from tqdm import tqdm\n",
    "df_test=pd.DataFrame([\n",
    "['Baseline',Traditional_features],\n",
    "           ['Baseline+RF',Traditional_features+Readability_features],\n",
    "           ['Baseline+BF',Traditional_features+Business_features],\n",
    "            ['Baseline+RF',Traditional_features+Reviewer_features],\n",
    "          ['Baseline+ABO',Traditional_features+Aspect_features],\n",
    "           ['Baseline+ABF',Traditional_features+Argumentation_features],\n",
    "             ['Baseline+ALL-ABO',ALL_except_ABO],\n",
    "             ['Baseline+ALL-ABF',ALL_except_ABF],\n",
    "                     ['Baseline+ALL',ALL]],columns=['model','feature_group'])"
   ]
  },
  {
   "cell_type": "code",
   "execution_count": 96,
   "metadata": {
    "button": false,
    "collapsed": false,
    "deletable": true,
    "new_sheet": false,
    "run_control": {
     "read_only": false
    }
   },
   "outputs": [
    {
     "data": {
      "text/plain": [
       "Index(['model', 'feature_group'], dtype='object')"
      ]
     },
     "execution_count": 96,
     "metadata": {},
     "output_type": "execute_result"
    }
   ],
   "source": [
    "df_test.columns"
   ]
  },
  {
   "cell_type": "code",
   "execution_count": 97,
   "metadata": {
    "button": false,
    "collapsed": false,
    "deletable": true,
    "new_sheet": false,
    "run_control": {
     "read_only": false
    },
    "scrolled": true
   },
   "outputs": [
    {
     "name": "stderr",
     "output_type": "stream",
     "text": [
      "\n",
      "\n",
      "\n",
      "\n",
      "\n",
      "\n",
      "\n",
      "\n",
      "\n",
      "  0%|          | 0/9 [00:00<?, ?it/s]\u001b[A\u001b[A\u001b[A\u001b[A\u001b[A\u001b[A\u001b[A\u001b[A\u001b[A"
     ]
    },
    {
     "name": "stdout",
     "output_type": "stream",
     "text": [
      "Run \n",
      "RandomizedSearchCV took 21.68 seconds for 20 candidates parameter settings.\n",
      "GBDT:\n",
      "best model\n",
      "Mean validation score: 0.656 (std: 0.009)\n",
      "Parameters: {'max_depth': 11, 'min_samples_split': 1800}\n",
      "finish:GBDT\n",
      "RandomizedSearchCV took 92.07 seconds for 10 candidates parameter settings.\n",
      "SVM:\n",
      "best model\n",
      "Mean validation score: 0.605 (std: 0.004)\n",
      "Parameters: {'gamma': 1e-05, 'C': 0.5, 'kernel': 'rbf'}\n",
      "finish SVM\n"
     ]
    },
    {
     "name": "stderr",
     "output_type": "stream",
     "text": [
      "\n",
      "\n",
      "\n",
      "\n",
      "\n",
      "\n",
      "\n",
      "\n",
      "\n",
      "\r",
      " 11%|█         | 1/9 [02:12<17:36, 132.07s/it]"
     ]
    },
    {
     "name": "stdout",
     "output_type": "stream",
     "text": [
      "RandomizedSearchCV took 18.32 seconds for 20 candidates parameter settings.\n",
      "Random Forest\n",
      "best model\n",
      "Mean validation score: 0.655 (std: 0.008)\n",
      "Parameters: {'max_depth': None, 'min_samples_split': 11, 'min_samples_leaf': 10, 'criterion': 'gini', 'bootstrap': True}\n",
      "finish Random Forest\n",
      "Run \n"
     ]
    },
    {
     "name": "stderr",
     "output_type": "stream",
     "text": [
      "\u001b[A\u001b[A\u001b[A\u001b[A\u001b[A\u001b[A\u001b[A\u001b[A\u001b[A"
     ]
    },
    {
     "name": "stdout",
     "output_type": "stream",
     "text": [
      "RandomizedSearchCV took 33.44 seconds for 20 candidates parameter settings.\n",
      "GBDT:\n",
      "best model\n",
      "Mean validation score: 0.657 (std: 0.005)\n",
      "Parameters: {'max_depth': 3, 'min_samples_split': 1400}\n",
      "finish:GBDT\n",
      "RandomizedSearchCV took 108.38 seconds for 10 candidates parameter settings.\n",
      "SVM:\n",
      "best model\n",
      "Mean validation score: 0.604 (std: 0.003)\n",
      "Parameters: {'gamma': 0.0001, 'C': 0.1, 'kernel': 'rbf'}\n",
      "finish SVM\n"
     ]
    },
    {
     "name": "stderr",
     "output_type": "stream",
     "text": [
      "\n",
      "\n",
      "\n",
      "\n",
      "\n",
      "\n",
      "\n",
      "\n",
      "\n",
      "\r",
      " 22%|██▏       | 2/9 [05:10<17:01, 145.89s/it]"
     ]
    },
    {
     "name": "stdout",
     "output_type": "stream",
     "text": [
      "RandomizedSearchCV took 36.29 seconds for 20 candidates parameter settings.\n",
      "Random Forest\n",
      "best model\n",
      "Mean validation score: 0.651 (std: 0.005)\n",
      "Parameters: {'max_depth': None, 'min_samples_split': 3, 'min_samples_leaf': 6, 'criterion': 'entropy', 'bootstrap': True}\n",
      "finish Random Forest\n",
      "Run \n"
     ]
    },
    {
     "name": "stderr",
     "output_type": "stream",
     "text": [
      "\u001b[A\u001b[A\u001b[A\u001b[A\u001b[A\u001b[A\u001b[A\u001b[A\u001b[A"
     ]
    },
    {
     "name": "stdout",
     "output_type": "stream",
     "text": [
      "RandomizedSearchCV took 25.36 seconds for 20 candidates parameter settings.\n",
      "GBDT:\n",
      "best model\n",
      "Mean validation score: 0.662 (std: 0.008)\n",
      "Parameters: {'max_depth': 11, 'min_samples_split': 1800}\n",
      "finish:GBDT\n",
      "RandomizedSearchCV took 105.86 seconds for 10 candidates parameter settings.\n",
      "SVM:\n",
      "best model\n",
      "Mean validation score: 0.612 (std: 0.002)\n",
      "Parameters: {'gamma': 1e-05, 'C': 2, 'kernel': 'rbf'}\n",
      "finish SVM\n"
     ]
    },
    {
     "name": "stderr",
     "output_type": "stream",
     "text": [
      "\n",
      "\n",
      "\n",
      "\n",
      "\n",
      "\n",
      "\n",
      "\n",
      "\n",
      "\r",
      " 33%|███▎      | 3/9 [07:46<14:53, 148.95s/it]"
     ]
    },
    {
     "name": "stdout",
     "output_type": "stream",
     "text": [
      "RandomizedSearchCV took 24.89 seconds for 20 candidates parameter settings.\n",
      "Random Forest\n",
      "best model\n",
      "Mean validation score: 0.658 (std: 0.006)\n",
      "Parameters: {'max_depth': None, 'min_samples_split': 8, 'min_samples_leaf': 10, 'criterion': 'entropy', 'bootstrap': False}\n",
      "finish Random Forest\n",
      "Run \n"
     ]
    },
    {
     "name": "stderr",
     "output_type": "stream",
     "text": [
      "\u001b[A\u001b[A\u001b[A\u001b[A\u001b[A\u001b[A\u001b[A\u001b[A\u001b[A"
     ]
    },
    {
     "name": "stdout",
     "output_type": "stream",
     "text": [
      "RandomizedSearchCV took 25.36 seconds for 20 candidates parameter settings.\n",
      "GBDT:\n",
      "best model\n",
      "Mean validation score: 0.687 (std: 0.008)\n",
      "Parameters: {'max_depth': 9, 'min_samples_split': 1400}\n",
      "finish:GBDT\n",
      "RandomizedSearchCV took 125.81 seconds for 10 candidates parameter settings.\n",
      "SVM:\n",
      "best model\n",
      "Mean validation score: 0.643 (std: 0.012)\n",
      "Parameters: {'gamma': 0.0001, 'C': 0.05, 'kernel': 'rbf'}\n",
      "finish SVM\n"
     ]
    },
    {
     "name": "stderr",
     "output_type": "stream",
     "text": [
      "\n",
      "\n",
      "\n",
      "\n",
      "\n",
      "\n",
      "\n",
      "\n",
      "\n",
      "\r",
      " 44%|████▍     | 4/9 [10:42<13:06, 157.24s/it]"
     ]
    },
    {
     "name": "stdout",
     "output_type": "stream",
     "text": [
      "RandomizedSearchCV took 25.40 seconds for 20 candidates parameter settings.\n",
      "Random Forest\n",
      "best model\n",
      "Mean validation score: 0.682 (std: 0.007)\n",
      "Parameters: {'max_depth': None, 'min_samples_split': 7, 'min_samples_leaf': 9, 'criterion': 'gini', 'bootstrap': True}\n",
      "finish Random Forest\n",
      "Run \n"
     ]
    },
    {
     "name": "stderr",
     "output_type": "stream",
     "text": [
      "\u001b[A\u001b[A\u001b[A\u001b[A\u001b[A\u001b[A\u001b[A\u001b[A\u001b[A"
     ]
    },
    {
     "name": "stdout",
     "output_type": "stream",
     "text": [
      "RandomizedSearchCV took 29.39 seconds for 20 candidates parameter settings.\n",
      "GBDT:\n",
      "best model\n",
      "Mean validation score: 0.657 (std: 0.004)\n",
      "Parameters: {'max_depth': 5, 'min_samples_split': 800}\n",
      "finish:GBDT\n",
      "RandomizedSearchCV took 103.97 seconds for 10 candidates parameter settings.\n",
      "SVM:\n",
      "best model\n",
      "Mean validation score: 0.605 (std: 0.004)\n",
      "Parameters: {'gamma': 1e-05, 'C': 0.5, 'kernel': 'rbf'}\n",
      "finish SVM\n"
     ]
    },
    {
     "name": "stderr",
     "output_type": "stream",
     "text": [
      "\n",
      "\n",
      "\n",
      "\n",
      "\n",
      "\n",
      "\n",
      "\n",
      "\n",
      "\r",
      " 56%|█████▌    | 5/9 [13:22<10:31, 157.93s/it]"
     ]
    },
    {
     "name": "stdout",
     "output_type": "stream",
     "text": [
      "RandomizedSearchCV took 26.19 seconds for 20 candidates parameter settings.\n",
      "Random Forest\n",
      "best model\n",
      "Mean validation score: 0.652 (std: 0.008)\n",
      "Parameters: {'max_depth': None, 'min_samples_split': 2, 'min_samples_leaf': 10, 'criterion': 'entropy', 'bootstrap': True}\n",
      "finish Random Forest\n",
      "Run \n"
     ]
    },
    {
     "name": "stderr",
     "output_type": "stream",
     "text": [
      "\u001b[A\u001b[A\u001b[A\u001b[A\u001b[A\u001b[A\u001b[A\u001b[A\u001b[A"
     ]
    },
    {
     "name": "stdout",
     "output_type": "stream",
     "text": [
      "RandomizedSearchCV took 29.39 seconds for 20 candidates parameter settings.\n",
      "GBDT:\n",
      "best model\n",
      "Mean validation score: 0.659 (std: 0.004)\n",
      "Parameters: {'max_depth': 5, 'min_samples_split': 1800}\n",
      "finish:GBDT\n",
      "RandomizedSearchCV took 116.32 seconds for 10 candidates parameter settings.\n",
      "SVM:\n",
      "best model\n",
      "Mean validation score: 0.606 (std: 0.005)\n",
      "Parameters: {'gamma': 0.0001, 'C': 0.05, 'kernel': 'rbf'}\n",
      "finish SVM\n"
     ]
    },
    {
     "name": "stderr",
     "output_type": "stream",
     "text": [
      "\n",
      "\n",
      "\n",
      "\n",
      "\n",
      "\n",
      "\n",
      "\n",
      "\n",
      "\r",
      " 67%|██████▋   | 6/9 [16:14<08:06, 162.21s/it]"
     ]
    },
    {
     "name": "stdout",
     "output_type": "stream",
     "text": [
      "RandomizedSearchCV took 26.46 seconds for 20 candidates parameter settings.\n",
      "Random Forest\n",
      "best model\n",
      "Mean validation score: 0.655 (std: 0.005)\n",
      "Parameters: {'max_depth': None, 'min_samples_split': 5, 'min_samples_leaf': 10, 'criterion': 'gini', 'bootstrap': True}\n",
      "finish Random Forest\n",
      "Run \n"
     ]
    },
    {
     "name": "stderr",
     "output_type": "stream",
     "text": [
      "\u001b[A\u001b[A\u001b[A\u001b[A\u001b[A\u001b[A\u001b[A\u001b[A\u001b[A"
     ]
    },
    {
     "name": "stdout",
     "output_type": "stream",
     "text": [
      "RandomizedSearchCV took 48.02 seconds for 20 candidates parameter settings.\n",
      "GBDT:\n",
      "best model\n",
      "Mean validation score: 0.690 (std: 0.005)\n",
      "Parameters: {'max_depth': 7, 'min_samples_split': 1000}\n",
      "finish:GBDT\n",
      "RandomizedSearchCV took 181.49 seconds for 10 candidates parameter settings.\n",
      "SVM:\n",
      "best model\n",
      "Mean validation score: 0.655 (std: 0.008)\n",
      "Parameters: {'gamma': 0.0001, 'C': 0.1, 'kernel': 'rbf'}\n",
      "finish SVM\n"
     ]
    },
    {
     "name": "stderr",
     "output_type": "stream",
     "text": [
      "\n",
      "\n",
      "\n",
      "\n",
      "\n",
      "\n",
      "\n",
      "\n",
      "\n",
      "\r",
      " 78%|███████▊  | 7/9 [20:50<06:32, 196.23s/it]"
     ]
    },
    {
     "name": "stdout",
     "output_type": "stream",
     "text": [
      "RandomizedSearchCV took 46.09 seconds for 20 candidates parameter settings.\n",
      "Random Forest\n",
      "best model\n",
      "Mean validation score: 0.684 (std: 0.005)\n",
      "Parameters: {'max_depth': None, 'min_samples_split': 12, 'min_samples_leaf': 10, 'criterion': 'entropy', 'bootstrap': False}\n",
      "finish Random Forest\n",
      "Run \n"
     ]
    },
    {
     "name": "stderr",
     "output_type": "stream",
     "text": [
      "\u001b[A\u001b[A\u001b[A\u001b[A\u001b[A\u001b[A\u001b[A\u001b[A\u001b[A"
     ]
    },
    {
     "name": "stdout",
     "output_type": "stream",
     "text": [
      "RandomizedSearchCV took 47.72 seconds for 20 candidates parameter settings.\n",
      "GBDT:\n",
      "best model\n",
      "Mean validation score: 0.690 (std: 0.009)\n",
      "Parameters: {'max_depth': 11, 'min_samples_split': 1800}\n",
      "finish:GBDT\n",
      "RandomizedSearchCV took 187.71 seconds for 10 candidates parameter settings.\n",
      "SVM:\n",
      "best model\n",
      "Mean validation score: 0.663 (std: 0.002)\n",
      "Parameters: {'gamma': 0.0001, 'C': 0.05, 'kernel': 'rbf'}\n",
      "finish SVM\n"
     ]
    },
    {
     "name": "stderr",
     "output_type": "stream",
     "text": [
      "\n",
      "\n",
      "\n",
      "\n",
      "\n",
      "\n",
      "\n",
      "\n",
      "\n",
      "\r",
      " 89%|████████▉ | 8/9 [25:28<03:40, 220.71s/it]"
     ]
    },
    {
     "name": "stdout",
     "output_type": "stream",
     "text": [
      "RandomizedSearchCV took 42.41 seconds for 20 candidates parameter settings.\n",
      "Random Forest\n",
      "best model\n",
      "Mean validation score: 0.681 (std: 0.007)\n",
      "Parameters: {'max_depth': None, 'min_samples_split': 2, 'min_samples_leaf': 8, 'criterion': 'entropy', 'bootstrap': False}\n",
      "finish Random Forest\n",
      "Run \n"
     ]
    },
    {
     "name": "stderr",
     "output_type": "stream",
     "text": [
      "\u001b[A\u001b[A\u001b[A\u001b[A\u001b[A\u001b[A\u001b[A\u001b[A\u001b[A"
     ]
    },
    {
     "name": "stdout",
     "output_type": "stream",
     "text": [
      "RandomizedSearchCV took 59.77 seconds for 20 candidates parameter settings.\n",
      "GBDT:\n",
      "best model\n",
      "Mean validation score: 0.689 (std: 0.009)\n",
      "Parameters: {'max_depth': 11, 'min_samples_split': 1800}\n",
      "finish:GBDT\n",
      "RandomizedSearchCV took 202.86 seconds for 10 candidates parameter settings.\n",
      "SVM:\n",
      "best model\n",
      "Mean validation score: 0.664 (std: 0.002)\n",
      "Parameters: {'gamma': 0.0001, 'C': 0.05, 'kernel': 'rbf'}\n",
      "finish SVM\n"
     ]
    },
    {
     "name": "stderr",
     "output_type": "stream",
     "text": [
      "\n",
      "\n",
      "\n",
      "\n",
      "\n",
      "\n",
      "\n",
      "\n",
      "\n",
      "\r",
      "100%|██████████| 9/9 [30:38<00:00, 247.54s/it]"
     ]
    },
    {
     "name": "stdout",
     "output_type": "stream",
     "text": [
      "RandomizedSearchCV took 47.51 seconds for 20 candidates parameter settings.\n",
      "Random Forest\n",
      "best model\n",
      "Mean validation score: 0.686 (std: 0.008)\n",
      "Parameters: {'max_depth': None, 'min_samples_split': 14, 'min_samples_leaf': 9, 'criterion': 'gini', 'bootstrap': False}\n",
      "finish Random Forest\n"
     ]
    },
    {
     "name": "stderr",
     "output_type": "stream",
     "text": [
      "\u001b[A\u001b[A\u001b[A\u001b[A\u001b[A\u001b[A\u001b[A\u001b[A\u001b[A\n",
      "\n",
      "\n",
      "\n",
      "\n",
      "\n",
      "\n",
      "\n",
      "\n",
      "\u001b[A\u001b[A\u001b[A\u001b[A\u001b[A\u001b[A\u001b[A\u001b[A\u001b[A"
     ]
    }
   ],
   "source": [
    "df_test['F1-score']=[main(df,i) for i in tqdm(df_test.feature_group)]"
   ]
  },
  {
   "cell_type": "code",
   "execution_count": 98,
   "metadata": {
    "button": false,
    "collapsed": false,
    "deletable": true,
    "new_sheet": false,
    "run_control": {
     "read_only": false
    },
    "scrolled": true
   },
   "outputs": [
    {
     "name": "stdout",
     "output_type": "stream",
     "text": [
      "Baseline SVM: 0.60475 GBDT: 0.65635 RF: 0.65501\n",
      "Baseline+RF SVM: 0.60449 GBDT: 0.65748 RF: 0.65080\n",
      "Baseline+BF SVM: 0.61186 GBDT: 0.66168 RF: 0.65775\n",
      "Baseline+RF SVM: 0.64347 GBDT: 0.68688 RF: 0.68204\n",
      "Baseline+ABO SVM: 0.60475 GBDT: 0.65660 RF: 0.65198\n",
      "Baseline+ABF SVM: 0.60564 GBDT: 0.65885 RF: 0.65481\n",
      "Baseline+ALL-ABO SVM: 0.65536 GBDT: 0.68985 RF: 0.68388\n",
      "Baseline+ALL-ABF SVM: 0.66293 GBDT: 0.68961 RF: 0.68088\n",
      "Baseline+ALL SVM: 0.66444 GBDT: 0.68894 RF: 0.68562\n"
     ]
    }
   ],
   "source": [
    "for i in df_test.index:\n",
    "    print(df_test.ix[i].model,'SVM:','%.5f' % df_test.ix[i]['F1-score']['SVM'],\n",
    "         'GBDT:','%.5f' % df_test.ix[i]['F1-score']['GBDT'],\n",
    "          'RF:','%.5f' % df_test.ix[i]['F1-score']['RF'])"
   ]
  },
  {
   "cell_type": "code",
   "execution_count": 1,
   "metadata": {
    "button": false,
    "collapsed": true,
    "deletable": true,
    "new_sheet": false,
    "run_control": {
     "read_only": false
    }
   },
   "outputs": [],
   "source": [
    "import pandas as pd"
   ]
  },
  {
   "cell_type": "code",
   "execution_count": 3,
   "metadata": {
    "collapsed": false
   },
   "outputs": [
    {
     "ename": "ValueError",
     "evalue": "unsupported pickle protocol: 4",
     "output_type": "error",
     "traceback": [
      "\u001b[0;31m---------------------------------------------------------------------------\u001b[0m",
      "\u001b[0;31mValueError\u001b[0m                                Traceback (most recent call last)",
      "\u001b[0;32m<ipython-input-3-fe3546db8921>\u001b[0m in \u001b[0;36m<module>\u001b[0;34m()\u001b[0m\n\u001b[0;32m----> 1\u001b[0;31m \u001b[0mdf1\u001b[0m\u001b[0;34m=\u001b[0m\u001b[0mpd\u001b[0m\u001b[0;34m.\u001b[0m\u001b[0mread_pickle\u001b[0m\u001b[0;34m(\u001b[0m\u001b[0;34m'Feature engeering/data/data_with_op.pkl'\u001b[0m\u001b[0;34m)\u001b[0m\u001b[0;34m\u001b[0m\u001b[0m\n\u001b[0m",
      "\u001b[0;32m//anaconda/envs/2.7/lib/python2.7/site-packages/pandas/io/pickle.pyc\u001b[0m in \u001b[0;36mread_pickle\u001b[0;34m(path)\u001b[0m\n\u001b[1;32m     63\u001b[0m \u001b[0;34m\u001b[0m\u001b[0m\n\u001b[1;32m     64\u001b[0m     \u001b[0;32mtry\u001b[0m\u001b[0;34m:\u001b[0m\u001b[0;34m\u001b[0m\u001b[0m\n\u001b[0;32m---> 65\u001b[0;31m         \u001b[0;32mreturn\u001b[0m \u001b[0mtry_read\u001b[0m\u001b[0;34m(\u001b[0m\u001b[0mpath\u001b[0m\u001b[0;34m)\u001b[0m\u001b[0;34m\u001b[0m\u001b[0m\n\u001b[0m\u001b[1;32m     66\u001b[0m     \u001b[0;32mexcept\u001b[0m\u001b[0;34m:\u001b[0m\u001b[0;34m\u001b[0m\u001b[0m\n\u001b[1;32m     67\u001b[0m         \u001b[0;32mif\u001b[0m \u001b[0mPY3\u001b[0m\u001b[0;34m:\u001b[0m\u001b[0;34m\u001b[0m\u001b[0m\n",
      "\u001b[0;32m//anaconda/envs/2.7/lib/python2.7/site-packages/pandas/io/pickle.pyc\u001b[0m in \u001b[0;36mtry_read\u001b[0;34m(path, encoding)\u001b[0m\n\u001b[1;32m     60\u001b[0m             \u001b[0;32mexcept\u001b[0m\u001b[0;34m:\u001b[0m\u001b[0;34m\u001b[0m\u001b[0m\n\u001b[1;32m     61\u001b[0m                 \u001b[0;32mwith\u001b[0m \u001b[0mopen\u001b[0m\u001b[0;34m(\u001b[0m\u001b[0mpath\u001b[0m\u001b[0;34m,\u001b[0m \u001b[0;34m'rb'\u001b[0m\u001b[0;34m)\u001b[0m \u001b[0;32mas\u001b[0m \u001b[0mfh\u001b[0m\u001b[0;34m:\u001b[0m\u001b[0;34m\u001b[0m\u001b[0m\n\u001b[0;32m---> 62\u001b[0;31m                     \u001b[0;32mreturn\u001b[0m \u001b[0mpc\u001b[0m\u001b[0;34m.\u001b[0m\u001b[0mload\u001b[0m\u001b[0;34m(\u001b[0m\u001b[0mfh\u001b[0m\u001b[0;34m,\u001b[0m \u001b[0mencoding\u001b[0m\u001b[0;34m=\u001b[0m\u001b[0mencoding\u001b[0m\u001b[0;34m,\u001b[0m \u001b[0mcompat\u001b[0m\u001b[0;34m=\u001b[0m\u001b[0mTrue\u001b[0m\u001b[0;34m)\u001b[0m\u001b[0;34m\u001b[0m\u001b[0m\n\u001b[0m\u001b[1;32m     63\u001b[0m \u001b[0;34m\u001b[0m\u001b[0m\n\u001b[1;32m     64\u001b[0m     \u001b[0;32mtry\u001b[0m\u001b[0;34m:\u001b[0m\u001b[0;34m\u001b[0m\u001b[0m\n",
      "\u001b[0;32m//anaconda/envs/2.7/lib/python2.7/site-packages/pandas/compat/pickle_compat.pyc\u001b[0m in \u001b[0;36mload\u001b[0;34m(fh, encoding, compat, is_verbose)\u001b[0m\n\u001b[1;32m    115\u001b[0m         \u001b[0mup\u001b[0m\u001b[0;34m.\u001b[0m\u001b[0mis_verbose\u001b[0m \u001b[0;34m=\u001b[0m \u001b[0mis_verbose\u001b[0m\u001b[0;34m\u001b[0m\u001b[0m\n\u001b[1;32m    116\u001b[0m \u001b[0;34m\u001b[0m\u001b[0m\n\u001b[0;32m--> 117\u001b[0;31m         \u001b[0;32mreturn\u001b[0m \u001b[0mup\u001b[0m\u001b[0;34m.\u001b[0m\u001b[0mload\u001b[0m\u001b[0;34m(\u001b[0m\u001b[0;34m)\u001b[0m\u001b[0;34m\u001b[0m\u001b[0m\n\u001b[0m\u001b[1;32m    118\u001b[0m     \u001b[0;32mexcept\u001b[0m\u001b[0;34m:\u001b[0m\u001b[0;34m\u001b[0m\u001b[0m\n\u001b[1;32m    119\u001b[0m         \u001b[0;32mraise\u001b[0m\u001b[0;34m\u001b[0m\u001b[0m\n",
      "\u001b[0;32m//anaconda/envs/2.7/lib/python2.7/pickle.pyc\u001b[0m in \u001b[0;36mload\u001b[0;34m(self)\u001b[0m\n\u001b[1;32m    862\u001b[0m             \u001b[0;32mwhile\u001b[0m \u001b[0;36m1\u001b[0m\u001b[0;34m:\u001b[0m\u001b[0;34m\u001b[0m\u001b[0m\n\u001b[1;32m    863\u001b[0m                 \u001b[0mkey\u001b[0m \u001b[0;34m=\u001b[0m \u001b[0mread\u001b[0m\u001b[0;34m(\u001b[0m\u001b[0;36m1\u001b[0m\u001b[0;34m)\u001b[0m\u001b[0;34m\u001b[0m\u001b[0m\n\u001b[0;32m--> 864\u001b[0;31m                 \u001b[0mdispatch\u001b[0m\u001b[0;34m[\u001b[0m\u001b[0mkey\u001b[0m\u001b[0;34m]\u001b[0m\u001b[0;34m(\u001b[0m\u001b[0mself\u001b[0m\u001b[0;34m)\u001b[0m\u001b[0;34m\u001b[0m\u001b[0m\n\u001b[0m\u001b[1;32m    865\u001b[0m         \u001b[0;32mexcept\u001b[0m \u001b[0m_Stop\u001b[0m\u001b[0;34m,\u001b[0m \u001b[0mstopinst\u001b[0m\u001b[0;34m:\u001b[0m\u001b[0;34m\u001b[0m\u001b[0m\n\u001b[1;32m    866\u001b[0m             \u001b[0;32mreturn\u001b[0m \u001b[0mstopinst\u001b[0m\u001b[0;34m.\u001b[0m\u001b[0mvalue\u001b[0m\u001b[0;34m\u001b[0m\u001b[0m\n",
      "\u001b[0;32m//anaconda/envs/2.7/lib/python2.7/pickle.pyc\u001b[0m in \u001b[0;36mload_proto\u001b[0;34m(self)\u001b[0m\n\u001b[1;32m    890\u001b[0m         \u001b[0mproto\u001b[0m \u001b[0;34m=\u001b[0m \u001b[0mord\u001b[0m\u001b[0;34m(\u001b[0m\u001b[0mself\u001b[0m\u001b[0;34m.\u001b[0m\u001b[0mread\u001b[0m\u001b[0;34m(\u001b[0m\u001b[0;36m1\u001b[0m\u001b[0;34m)\u001b[0m\u001b[0;34m)\u001b[0m\u001b[0;34m\u001b[0m\u001b[0m\n\u001b[1;32m    891\u001b[0m         \u001b[0;32mif\u001b[0m \u001b[0;32mnot\u001b[0m \u001b[0;36m0\u001b[0m \u001b[0;34m<=\u001b[0m \u001b[0mproto\u001b[0m \u001b[0;34m<=\u001b[0m \u001b[0;36m2\u001b[0m\u001b[0;34m:\u001b[0m\u001b[0;34m\u001b[0m\u001b[0m\n\u001b[0;32m--> 892\u001b[0;31m             \u001b[0;32mraise\u001b[0m \u001b[0mValueError\u001b[0m\u001b[0;34m,\u001b[0m \u001b[0;34m\"unsupported pickle protocol: %d\"\u001b[0m \u001b[0;34m%\u001b[0m \u001b[0mproto\u001b[0m\u001b[0;34m\u001b[0m\u001b[0m\n\u001b[0m\u001b[1;32m    893\u001b[0m     \u001b[0mdispatch\u001b[0m\u001b[0;34m[\u001b[0m\u001b[0mPROTO\u001b[0m\u001b[0;34m]\u001b[0m \u001b[0;34m=\u001b[0m \u001b[0mload_proto\u001b[0m\u001b[0;34m\u001b[0m\u001b[0m\n\u001b[1;32m    894\u001b[0m \u001b[0;34m\u001b[0m\u001b[0m\n",
      "\u001b[0;31mValueError\u001b[0m: unsupported pickle protocol: 4"
     ]
    }
   ],
   "source": [
    "df1=pd.read_pickle('Feature\\ engeering/data/data_with_op.pkl')"
   ]
  },
  {
   "cell_type": "code",
   "execution_count": null,
   "metadata": {
    "collapsed": true
   },
   "outputs": [],
   "source": []
  }
 ],
 "metadata": {
  "anaconda-cloud": {},
  "kernelspec": {
   "display_name": "Python [conda env:2.7]",
   "language": "python",
   "name": "conda-env-2.7-py"
  },
  "language_info": {
   "codemirror_mode": {
    "name": "ipython",
    "version": 2
   },
   "file_extension": ".py",
   "mimetype": "text/x-python",
   "name": "python",
   "nbconvert_exporter": "python",
   "pygments_lexer": "ipython2",
   "version": "2.7.12"
  }
 },
 "nbformat": 4,
 "nbformat_minor": 1
}

{
 "cells": [
  {
   "cell_type": "code",
   "execution_count": 2,
   "metadata": {
    "collapsed": true
   },
   "outputs": [],
   "source": [
    "import pandas as pd"
   ]
  },
  {
   "cell_type": "code",
   "execution_count": 7,
   "metadata": {
    "collapsed": true
   },
   "outputs": [],
   "source": [
    "with open('df.csv') as df:\n",
    "    df=pd.read_csv(df,index_col=0)\n"
   ]
  },
  {
   "cell_type": "code",
   "execution_count": 187,
   "metadata": {
    "collapsed": true
   },
   "outputs": [
    {
     "name": "stderr",
     "output_type": "stream",
     "text": [
      "//anaconda/lib/python3.5/site-packages/IPython/core/interactiveshell.py:2717: DtypeWarning: Columns (0) have mixed types. Specify dtype option on import or set low_memory=False.\n",
      "  interactivity=interactivity, compiler=compiler, result=result)\n"
     ]
    },
    {
     "ename": "NameError",
     "evalue": "name 'oepn' is not defined",
     "output_type": "error",
     "traceback": [
      "\u001b[0;31m---------------------------------------------------------------------------\u001b[0m",
      "\u001b[0;31mNameError\u001b[0m                                 Traceback (most recent call last)",
      "\u001b[0;32m<ipython-input-187-daacf8895ea2>\u001b[0m in \u001b[0;36m<module>\u001b[0;34m()\u001b[0m\n\u001b[1;32m      2\u001b[0m     \u001b[0mdf_ra\u001b[0m\u001b[0;34m=\u001b[0m\u001b[0mpd\u001b[0m\u001b[0;34m.\u001b[0m\u001b[0mread_csv\u001b[0m\u001b[0;34m(\u001b[0m\u001b[0mra\u001b[0m\u001b[0;34m)\u001b[0m\u001b[0;34m\u001b[0m\u001b[0m\n\u001b[1;32m      3\u001b[0m \u001b[0mdf_ra\u001b[0m\u001b[0;34m.\u001b[0m\u001b[0mhead\u001b[0m\u001b[0;34m(\u001b[0m\u001b[0;34m)\u001b[0m\u001b[0;34m\u001b[0m\u001b[0m\n\u001b[0;32m----> 4\u001b[0;31m \u001b[0;32mwith\u001b[0m \u001b[0moepn\u001b[0m\u001b[0;34m(\u001b[0m\u001b[0;34m'user.csv'\u001b[0m\u001b[0;34m)\u001b[0m \u001b[0;32mas\u001b[0m \u001b[0muc\u001b[0m\u001b[0;34m:\u001b[0m\u001b[0;34m\u001b[0m\u001b[0m\n\u001b[0m\u001b[1;32m      5\u001b[0m     \u001b[0mdf_uc\u001b[0m\u001b[0;34m=\u001b[0m\u001b[0mpd\u001b[0m\u001b[0;34m.\u001b[0m\u001b[0mread_csv\u001b[0m\u001b[0;34m(\u001b[0m\u001b[0muc\u001b[0m\u001b[0;34m)\u001b[0m\u001b[0;34m\u001b[0m\u001b[0m\n\u001b[1;32m      6\u001b[0m \u001b[0mdf_uc\u001b[0m\u001b[0;34m.\u001b[0m\u001b[0mhead\u001b[0m\u001b[0;34m(\u001b[0m\u001b[0;34m)\u001b[0m\u001b[0;34m\u001b[0m\u001b[0m\n",
      "\u001b[0;31mNameError\u001b[0m: name 'oepn' is not defined"
     ]
    }
   ],
   "source": [
    "with open('review_all.csv') as ra:\n",
    "    df_ra=pd.read_csv(ra)\n",
    "df_ra.head()"
   ]
  },
  {
   "cell_type": "code",
   "execution_count": 188,
   "metadata": {
    "collapsed": true
   },
   "outputs": [],
   "source": [
    "with open('user.csv') as uc:\n",
    "    df_uc=pd.read_csv(uc)\n",
    "df_uc.head()\n",
    "with open('business.csv') as bc:\n",
    "    df_bs=pd.read_csv(bc)"
   ]
  },
  {
   "cell_type": "code",
   "execution_count": 190,
   "metadata": {
    "collapsed": false
   },
   "outputs": [],
   "source": [
    "df['business_avg_star']=df.business_id.map(df_ra.groupby('business_id').stars.mean())"
   ]
  },
  {
   "cell_type": "code",
   "execution_count": 191,
   "metadata": {
    "collapsed": true
   },
   "outputs": [],
   "source": [
    "df['star_deviation']=df.stars-df['business_avg_star']"
   ]
  },
  {
   "cell_type": "code",
   "execution_count": 203,
   "metadata": {
    "collapsed": true
   },
   "outputs": [
    {
     "data": {
      "text/html": [
       "<div>\n",
       "<table border=\"1\" class=\"dataframe\">\n",
       "  <thead>\n",
       "    <tr style=\"text-align: right;\">\n",
       "      <th></th>\n",
       "      <th>Unnamed: 0</th>\n",
       "      <th>average_stars</th>\n",
       "      <th>compliment_cool</th>\n",
       "      <th>compliment_cute</th>\n",
       "      <th>compliment_funny</th>\n",
       "      <th>compliment_hot</th>\n",
       "      <th>compliment_list</th>\n",
       "      <th>compliment_more</th>\n",
       "      <th>compliment_note</th>\n",
       "      <th>compliment_photos</th>\n",
       "      <th>...</th>\n",
       "      <th>fans</th>\n",
       "      <th>friends</th>\n",
       "      <th>funny</th>\n",
       "      <th>name</th>\n",
       "      <th>review_count</th>\n",
       "      <th>type</th>\n",
       "      <th>useful</th>\n",
       "      <th>user_id</th>\n",
       "      <th>yelping_since</th>\n",
       "      <th>days_since</th>\n",
       "    </tr>\n",
       "  </thead>\n",
       "  <tbody>\n",
       "    <tr>\n",
       "      <th>0</th>\n",
       "      <td>0</td>\n",
       "      <td>3.59</td>\n",
       "      <td>4192</td>\n",
       "      <td>79</td>\n",
       "      <td>4192</td>\n",
       "      <td>3904</td>\n",
       "      <td>19</td>\n",
       "      <td>305</td>\n",
       "      <td>4705</td>\n",
       "      <td>1347</td>\n",
       "      <td>...</td>\n",
       "      <td>298</td>\n",
       "      <td>['iJg9ekPzF9lkMuvjKYX6uA', 'ctWAuzS04Xu0lke2Ro...</td>\n",
       "      <td>12316</td>\n",
       "      <td>Rob</td>\n",
       "      <td>761</td>\n",
       "      <td>user</td>\n",
       "      <td>18456</td>\n",
       "      <td>EZmocAborM6z66rTzeZxzQ</td>\n",
       "      <td>2009-09-12</td>\n",
       "      <td>2874 days</td>\n",
       "    </tr>\n",
       "    <tr>\n",
       "      <th>1</th>\n",
       "      <td>1</td>\n",
       "      <td>4.29</td>\n",
       "      <td>144</td>\n",
       "      <td>11</td>\n",
       "      <td>144</td>\n",
       "      <td>64</td>\n",
       "      <td>1</td>\n",
       "      <td>4</td>\n",
       "      <td>97</td>\n",
       "      <td>24</td>\n",
       "      <td>...</td>\n",
       "      <td>34</td>\n",
       "      <td>['r2UUCzGxqI6WPsiWPgqG2A', 'qewG3X2O4X6JKskxyy...</td>\n",
       "      <td>28</td>\n",
       "      <td>Vivian</td>\n",
       "      <td>80</td>\n",
       "      <td>user</td>\n",
       "      <td>117</td>\n",
       "      <td>myql3o3x22_ygECb8gVo7A</td>\n",
       "      <td>2009-06-27</td>\n",
       "      <td>2951 days</td>\n",
       "    </tr>\n",
       "    <tr>\n",
       "      <th>2</th>\n",
       "      <td>2</td>\n",
       "      <td>4.15</td>\n",
       "      <td>36</td>\n",
       "      <td>1</td>\n",
       "      <td>36</td>\n",
       "      <td>14</td>\n",
       "      <td>2</td>\n",
       "      <td>10</td>\n",
       "      <td>21</td>\n",
       "      <td>4</td>\n",
       "      <td>...</td>\n",
       "      <td>48</td>\n",
       "      <td>['qewG3X2O4X6JKskxyyqFwQ', '-50XWnmQGqBgEI-9AN...</td>\n",
       "      <td>6</td>\n",
       "      <td>Carol</td>\n",
       "      <td>841</td>\n",
       "      <td>user</td>\n",
       "      <td>58</td>\n",
       "      <td>FIk4lQQu1eTe2EpzQ4xhBA</td>\n",
       "      <td>2010-08-26</td>\n",
       "      <td>2526 days</td>\n",
       "    </tr>\n",
       "    <tr>\n",
       "      <th>3</th>\n",
       "      <td>3</td>\n",
       "      <td>3.82</td>\n",
       "      <td>54</td>\n",
       "      <td>6</td>\n",
       "      <td>54</td>\n",
       "      <td>32</td>\n",
       "      <td>0</td>\n",
       "      <td>5</td>\n",
       "      <td>13</td>\n",
       "      <td>1</td>\n",
       "      <td>...</td>\n",
       "      <td>28</td>\n",
       "      <td>['AIhfuFmX62k7a22gXXAB2Q', 'kQ1jU2rDpFD_q54edE...</td>\n",
       "      <td>51</td>\n",
       "      <td>Miss Maggie</td>\n",
       "      <td>376</td>\n",
       "      <td>user</td>\n",
       "      <td>42</td>\n",
       "      <td>ojovtd9c8GIeDiB8e0mq2w</td>\n",
       "      <td>2008-05-31</td>\n",
       "      <td>3343 days</td>\n",
       "    </tr>\n",
       "    <tr>\n",
       "      <th>4</th>\n",
       "      <td>4</td>\n",
       "      <td>2.97</td>\n",
       "      <td>0</td>\n",
       "      <td>0</td>\n",
       "      <td>0</td>\n",
       "      <td>0</td>\n",
       "      <td>0</td>\n",
       "      <td>0</td>\n",
       "      <td>0</td>\n",
       "      <td>0</td>\n",
       "      <td>...</td>\n",
       "      <td>2</td>\n",
       "      <td>['bvZkBCY-AvCsxRjd6Q-vEQ', 'KNEVNYeyNZApXG6HqO...</td>\n",
       "      <td>3</td>\n",
       "      <td>Jeremy</td>\n",
       "      <td>28</td>\n",
       "      <td>user</td>\n",
       "      <td>8</td>\n",
       "      <td>uVEoZmmL9yK0NMgadLL0CQ</td>\n",
       "      <td>2013-01-17</td>\n",
       "      <td>1651 days</td>\n",
       "    </tr>\n",
       "  </tbody>\n",
       "</table>\n",
       "<p>5 rows × 25 columns</p>\n",
       "</div>"
      ],
      "text/plain": [
       "   Unnamed: 0  average_stars  compliment_cool  compliment_cute  \\\n",
       "0           0           3.59             4192               79   \n",
       "1           1           4.29              144               11   \n",
       "2           2           4.15               36                1   \n",
       "3           3           3.82               54                6   \n",
       "4           4           2.97                0                0   \n",
       "\n",
       "   compliment_funny  compliment_hot  compliment_list  compliment_more  \\\n",
       "0              4192            3904               19              305   \n",
       "1               144              64                1                4   \n",
       "2                36              14                2               10   \n",
       "3                54              32                0                5   \n",
       "4                 0               0                0                0   \n",
       "\n",
       "   compliment_note  compliment_photos     ...      fans  \\\n",
       "0             4705               1347     ...       298   \n",
       "1               97                 24     ...        34   \n",
       "2               21                  4     ...        48   \n",
       "3               13                  1     ...        28   \n",
       "4                0                  0     ...         2   \n",
       "\n",
       "                                             friends  funny         name  \\\n",
       "0  ['iJg9ekPzF9lkMuvjKYX6uA', 'ctWAuzS04Xu0lke2Ro...  12316          Rob   \n",
       "1  ['r2UUCzGxqI6WPsiWPgqG2A', 'qewG3X2O4X6JKskxyy...     28       Vivian   \n",
       "2  ['qewG3X2O4X6JKskxyyqFwQ', '-50XWnmQGqBgEI-9AN...      6        Carol   \n",
       "3  ['AIhfuFmX62k7a22gXXAB2Q', 'kQ1jU2rDpFD_q54edE...     51  Miss Maggie   \n",
       "4  ['bvZkBCY-AvCsxRjd6Q-vEQ', 'KNEVNYeyNZApXG6HqO...      3       Jeremy   \n",
       "\n",
       "  review_count  type useful                 user_id yelping_since  days_since  \n",
       "0          761  user  18456  EZmocAborM6z66rTzeZxzQ    2009-09-12   2874 days  \n",
       "1           80  user    117  myql3o3x22_ygECb8gVo7A    2009-06-27   2951 days  \n",
       "2          841  user     58  FIk4lQQu1eTe2EpzQ4xhBA    2010-08-26   2526 days  \n",
       "3          376  user     42  ojovtd9c8GIeDiB8e0mq2w    2008-05-31   3343 days  \n",
       "4           28  user      8  uVEoZmmL9yK0NMgadLL0CQ    2013-01-17   1651 days  \n",
       "\n",
       "[5 rows x 25 columns]"
      ]
     },
     "execution_count": 203,
     "metadata": {},
     "output_type": "execute_result"
    }
   ],
   "source": [
    "from datetime import datetime\n",
    "date_format = \"%Y-%m-%d\"\n",
    "b = datetime.strptime('2017-7-26', date_format)\n",
    "df_uc['days_since']= [b-datetime.strptime(i, date_format) for i in df_uc.yelping_since]\n",
    "df_uc.head()"
   ]
  },
  {
   "cell_type": "code",
   "execution_count": 208,
   "metadata": {
    "collapsed": false
   },
   "outputs": [],
   "source": [
    "df['user_days_since']=df.user_id.map(df_uc.set_index('user_id').days_since)"
   ]
  },
  {
   "cell_type": "code",
   "execution_count": 139,
   "metadata": {
    "collapsed": true
   },
   "outputs": [
    {
     "ename": "ValueError",
     "evalue": "Can't handle mix of binary and continuous-multioutput",
     "output_type": "error",
     "traceback": [
      "\u001b[0;31m---------------------------------------------------------------------------\u001b[0m",
      "\u001b[0;31mValueError\u001b[0m                                Traceback (most recent call last)",
      "\u001b[0;32m<ipython-input-139-2a5988f22a58>\u001b[0m in \u001b[0;36m<module>\u001b[0;34m()\u001b[0m\n\u001b[1;32m      6\u001b[0m \u001b[0mtext_clf_MNB\u001b[0m\u001b[0;34m.\u001b[0m\u001b[0mfit\u001b[0m\u001b[0;34m(\u001b[0m\u001b[0mX_train\u001b[0m\u001b[0;34m,\u001b[0m\u001b[0my_train\u001b[0m\u001b[0;34m)\u001b[0m\u001b[0;34m\u001b[0m\u001b[0m\n\u001b[1;32m      7\u001b[0m \u001b[0mpred\u001b[0m\u001b[0;34m=\u001b[0m\u001b[0mtext_clf_MNB\u001b[0m\u001b[0;34m.\u001b[0m\u001b[0mpredict_proba\u001b[0m\u001b[0;34m(\u001b[0m\u001b[0mX_test\u001b[0m\u001b[0;34m)\u001b[0m\u001b[0;34m\u001b[0m\u001b[0m\n\u001b[0;32m----> 8\u001b[0;31m \u001b[0mmetrics\u001b[0m\u001b[0;34m.\u001b[0m\u001b[0mf1_score\u001b[0m\u001b[0;34m(\u001b[0m\u001b[0my_test\u001b[0m\u001b[0;34m,\u001b[0m\u001b[0mpred\u001b[0m\u001b[0;34m)\u001b[0m\u001b[0;34m\u001b[0m\u001b[0m\n\u001b[0m",
      "\u001b[0;32m//anaconda/lib/python3.5/site-packages/sklearn/metrics/classification.py\u001b[0m in \u001b[0;36mf1_score\u001b[0;34m(y_true, y_pred, labels, pos_label, average, sample_weight)\u001b[0m\n\u001b[1;32m    690\u001b[0m     return fbeta_score(y_true, y_pred, 1, labels=labels,\n\u001b[1;32m    691\u001b[0m                        \u001b[0mpos_label\u001b[0m\u001b[0;34m=\u001b[0m\u001b[0mpos_label\u001b[0m\u001b[0;34m,\u001b[0m \u001b[0maverage\u001b[0m\u001b[0;34m=\u001b[0m\u001b[0maverage\u001b[0m\u001b[0;34m,\u001b[0m\u001b[0;34m\u001b[0m\u001b[0m\n\u001b[0;32m--> 692\u001b[0;31m                        sample_weight=sample_weight)\n\u001b[0m\u001b[1;32m    693\u001b[0m \u001b[0;34m\u001b[0m\u001b[0m\n\u001b[1;32m    694\u001b[0m \u001b[0;34m\u001b[0m\u001b[0m\n",
      "\u001b[0;32m//anaconda/lib/python3.5/site-packages/sklearn/metrics/classification.py\u001b[0m in \u001b[0;36mfbeta_score\u001b[0;34m(y_true, y_pred, beta, labels, pos_label, average, sample_weight)\u001b[0m\n\u001b[1;32m    804\u001b[0m                                                  \u001b[0maverage\u001b[0m\u001b[0;34m=\u001b[0m\u001b[0maverage\u001b[0m\u001b[0;34m,\u001b[0m\u001b[0;34m\u001b[0m\u001b[0m\n\u001b[1;32m    805\u001b[0m                                                  \u001b[0mwarn_for\u001b[0m\u001b[0;34m=\u001b[0m\u001b[0;34m(\u001b[0m\u001b[0;34m'f-score'\u001b[0m\u001b[0;34m,\u001b[0m\u001b[0;34m)\u001b[0m\u001b[0;34m,\u001b[0m\u001b[0;34m\u001b[0m\u001b[0m\n\u001b[0;32m--> 806\u001b[0;31m                                                  sample_weight=sample_weight)\n\u001b[0m\u001b[1;32m    807\u001b[0m     \u001b[0;32mreturn\u001b[0m \u001b[0mf\u001b[0m\u001b[0;34m\u001b[0m\u001b[0m\n\u001b[1;32m    808\u001b[0m \u001b[0;34m\u001b[0m\u001b[0m\n",
      "\u001b[0;32m//anaconda/lib/python3.5/site-packages/sklearn/metrics/classification.py\u001b[0m in \u001b[0;36mprecision_recall_fscore_support\u001b[0;34m(y_true, y_pred, beta, labels, pos_label, average, warn_for, sample_weight)\u001b[0m\n\u001b[1;32m   1001\u001b[0m         \u001b[0;32mraise\u001b[0m \u001b[0mValueError\u001b[0m\u001b[0;34m(\u001b[0m\u001b[0;34m\"beta should be >0 in the F-beta score\"\u001b[0m\u001b[0;34m)\u001b[0m\u001b[0;34m\u001b[0m\u001b[0m\n\u001b[1;32m   1002\u001b[0m \u001b[0;34m\u001b[0m\u001b[0m\n\u001b[0;32m-> 1003\u001b[0;31m     \u001b[0my_type\u001b[0m\u001b[0;34m,\u001b[0m \u001b[0my_true\u001b[0m\u001b[0;34m,\u001b[0m \u001b[0my_pred\u001b[0m \u001b[0;34m=\u001b[0m \u001b[0m_check_targets\u001b[0m\u001b[0;34m(\u001b[0m\u001b[0my_true\u001b[0m\u001b[0;34m,\u001b[0m \u001b[0my_pred\u001b[0m\u001b[0;34m)\u001b[0m\u001b[0;34m\u001b[0m\u001b[0m\n\u001b[0m\u001b[1;32m   1004\u001b[0m     \u001b[0mpresent_labels\u001b[0m \u001b[0;34m=\u001b[0m \u001b[0munique_labels\u001b[0m\u001b[0;34m(\u001b[0m\u001b[0my_true\u001b[0m\u001b[0;34m,\u001b[0m \u001b[0my_pred\u001b[0m\u001b[0;34m)\u001b[0m\u001b[0;34m\u001b[0m\u001b[0m\n\u001b[1;32m   1005\u001b[0m \u001b[0;34m\u001b[0m\u001b[0m\n",
      "\u001b[0;32m//anaconda/lib/python3.5/site-packages/sklearn/metrics/classification.py\u001b[0m in \u001b[0;36m_check_targets\u001b[0;34m(y_true, y_pred)\u001b[0m\n\u001b[1;32m     80\u001b[0m     \u001b[0;32mif\u001b[0m \u001b[0mlen\u001b[0m\u001b[0;34m(\u001b[0m\u001b[0my_type\u001b[0m\u001b[0;34m)\u001b[0m \u001b[0;34m>\u001b[0m \u001b[0;36m1\u001b[0m\u001b[0;34m:\u001b[0m\u001b[0;34m\u001b[0m\u001b[0m\n\u001b[1;32m     81\u001b[0m         raise ValueError(\"Can't handle mix of {0} and {1}\"\n\u001b[0;32m---> 82\u001b[0;31m                          \"\".format(type_true, type_pred))\n\u001b[0m\u001b[1;32m     83\u001b[0m \u001b[0;34m\u001b[0m\u001b[0m\n\u001b[1;32m     84\u001b[0m     \u001b[0;31m# We can't have more than one value on y_type => The set is no more needed\u001b[0m\u001b[0;34m\u001b[0m\u001b[0;34m\u001b[0m\u001b[0m\n",
      "\u001b[0;31mValueError\u001b[0m: Can't handle mix of binary and continuous-multioutput"
     ]
    }
   ],
   "source": [
    "text_clf_MNB = Pipeline([('vect', text.CountVectorizer()),  \n",
    "\t\t\t\t\t('tfidf',text.TfidfTransformer()),\n",
    "\t\t\t\t\t('clf',MultinomialNB()),])\n",
    "X_train, X_test, y_train, y_test = train_test_split(\n",
    "    df_use.text, df_use.label, test_size=0.33, random_state=42)\n",
    "text_clf_MNB.fit(X_train,y_train)\n",
    "pred=text_clf_MNB.predict_proba(X_test)\n",
    "metrics.f1_score(y_test,pred)\n",
    "df['review_NB']=text_clf_MNB.predict_proba(df.text)[:,1]"
   ]
  },
  {
   "cell_type": "code",
   "execution_count": 155,
   "metadata": {
    "collapsed": true
   },
   "outputs": [
    {
     "data": {
      "text/html": [
       "<div>\n",
       "<table border=\"1\" class=\"dataframe\">\n",
       "  <thead>\n",
       "    <tr style=\"text-align: right;\">\n",
       "      <th></th>\n",
       "      <th>Unnamed: 0.1</th>\n",
       "      <th>Unnamed: 0.1.1</th>\n",
       "      <th>business_id</th>\n",
       "      <th>cool</th>\n",
       "      <th>date</th>\n",
       "      <th>funny</th>\n",
       "      <th>review_id</th>\n",
       "      <th>stars</th>\n",
       "      <th>text</th>\n",
       "      <th>type</th>\n",
       "      <th>...</th>\n",
       "      <th>user_received_useful</th>\n",
       "      <th>sentiment_score</th>\n",
       "      <th>environment_score</th>\n",
       "      <th>other_score</th>\n",
       "      <th>price_score</th>\n",
       "      <th>food_score</th>\n",
       "      <th>service_score</th>\n",
       "      <th>ex_id</th>\n",
       "      <th>useful_label</th>\n",
       "      <th>review_NB</th>\n",
       "    </tr>\n",
       "  </thead>\n",
       "  <tbody>\n",
       "    <tr>\n",
       "      <th>0</th>\n",
       "      <td>116151</td>\n",
       "      <td>1681279</td>\n",
       "      <td>R1L4iwkNPwizkJXFIPMxig</td>\n",
       "      <td>1</td>\n",
       "      <td>2016-12-13</td>\n",
       "      <td>1.0</td>\n",
       "      <td>YDnTnrf8IEC8gagqaWnhAQ</td>\n",
       "      <td>4.0</td>\n",
       "      <td>always really good here every time i've been h...</td>\n",
       "      <td>review</td>\n",
       "      <td>...</td>\n",
       "      <td>151</td>\n",
       "      <td>0.9714</td>\n",
       "      <td>-0.047619</td>\n",
       "      <td>0.000000</td>\n",
       "      <td>0.022222</td>\n",
       "      <td>0.021128</td>\n",
       "      <td>-0.005528</td>\n",
       "      <td>116151</td>\n",
       "      <td>1</td>\n",
       "      <td>0.555060</td>\n",
       "    </tr>\n",
       "    <tr>\n",
       "      <th>1</th>\n",
       "      <td>115748</td>\n",
       "      <td>1652614</td>\n",
       "      <td>vMO8QkXzx-puoJDz09t5Pg</td>\n",
       "      <td>0</td>\n",
       "      <td>2016-06-29</td>\n",
       "      <td>0.0</td>\n",
       "      <td>AoUNDNBI1GzPzts9RTN4Ig</td>\n",
       "      <td>4.0</td>\n",
       "      <td>as a loyal yelper, when i am on the road i do ...</td>\n",
       "      <td>review</td>\n",
       "      <td>...</td>\n",
       "      <td>1692</td>\n",
       "      <td>0.9632</td>\n",
       "      <td>0.009302</td>\n",
       "      <td>0.046512</td>\n",
       "      <td>0.026316</td>\n",
       "      <td>0.057214</td>\n",
       "      <td>0.059302</td>\n",
       "      <td>115748</td>\n",
       "      <td>1</td>\n",
       "      <td>0.690830</td>\n",
       "    </tr>\n",
       "    <tr>\n",
       "      <th>2</th>\n",
       "      <td>115827</td>\n",
       "      <td>633504</td>\n",
       "      <td>0W_pPAiTXgazY2mtX6o0_w</td>\n",
       "      <td>0</td>\n",
       "      <td>2016-08-01</td>\n",
       "      <td>0.0</td>\n",
       "      <td>Fmr3Cx0lcrqCsAthgMSQiA</td>\n",
       "      <td>4.0</td>\n",
       "      <td>yelp led me here while vacationing in arizona....</td>\n",
       "      <td>review</td>\n",
       "      <td>...</td>\n",
       "      <td>6</td>\n",
       "      <td>0.9334</td>\n",
       "      <td>0.166667</td>\n",
       "      <td>0.000000</td>\n",
       "      <td>0.000000</td>\n",
       "      <td>0.250000</td>\n",
       "      <td>0.000000</td>\n",
       "      <td>115827</td>\n",
       "      <td>1</td>\n",
       "      <td>0.459436</td>\n",
       "    </tr>\n",
       "    <tr>\n",
       "      <th>3</th>\n",
       "      <td>1694</td>\n",
       "      <td>1185628</td>\n",
       "      <td>acTFhUpJpWyrMmdoNFwyuA</td>\n",
       "      <td>0</td>\n",
       "      <td>2016-12-10</td>\n",
       "      <td>0.0</td>\n",
       "      <td>8YfPFuPteDmvUZcBSz6tYg</td>\n",
       "      <td>5.0</td>\n",
       "      <td>everything is so so delicious here!! my first ...</td>\n",
       "      <td>review</td>\n",
       "      <td>...</td>\n",
       "      <td>43</td>\n",
       "      <td>0.9799</td>\n",
       "      <td>0.000000</td>\n",
       "      <td>0.000000</td>\n",
       "      <td>0.000000</td>\n",
       "      <td>0.000000</td>\n",
       "      <td>0.000000</td>\n",
       "      <td>1694</td>\n",
       "      <td>0</td>\n",
       "      <td>0.412501</td>\n",
       "    </tr>\n",
       "    <tr>\n",
       "      <th>4</th>\n",
       "      <td>119151</td>\n",
       "      <td>613512</td>\n",
       "      <td>wEisic-u9Yj543iYzfpAhw</td>\n",
       "      <td>4</td>\n",
       "      <td>2016-01-30</td>\n",
       "      <td>0.0</td>\n",
       "      <td>dmXXkBDSe5mm14uZw_-8BQ</td>\n",
       "      <td>5.0</td>\n",
       "      <td>i have been here about four times for lunch ov...</td>\n",
       "      <td>review</td>\n",
       "      <td>...</td>\n",
       "      <td>650</td>\n",
       "      <td>0.9686</td>\n",
       "      <td>0.000000</td>\n",
       "      <td>-0.062500</td>\n",
       "      <td>0.000000</td>\n",
       "      <td>0.021739</td>\n",
       "      <td>0.086957</td>\n",
       "      <td>119151</td>\n",
       "      <td>1</td>\n",
       "      <td>0.519968</td>\n",
       "    </tr>\n",
       "  </tbody>\n",
       "</table>\n",
       "<p>5 rows × 52 columns</p>\n",
       "</div>"
      ],
      "text/plain": [
       "   Unnamed: 0.1  Unnamed: 0.1.1             business_id  cool        date  \\\n",
       "0        116151         1681279  R1L4iwkNPwizkJXFIPMxig     1  2016-12-13   \n",
       "1        115748         1652614  vMO8QkXzx-puoJDz09t5Pg     0  2016-06-29   \n",
       "2        115827          633504  0W_pPAiTXgazY2mtX6o0_w     0  2016-08-01   \n",
       "3          1694         1185628  acTFhUpJpWyrMmdoNFwyuA     0  2016-12-10   \n",
       "4        119151          613512  wEisic-u9Yj543iYzfpAhw     4  2016-01-30   \n",
       "\n",
       "   funny               review_id  stars  \\\n",
       "0    1.0  YDnTnrf8IEC8gagqaWnhAQ    4.0   \n",
       "1    0.0  AoUNDNBI1GzPzts9RTN4Ig    4.0   \n",
       "2    0.0  Fmr3Cx0lcrqCsAthgMSQiA    4.0   \n",
       "3    0.0  8YfPFuPteDmvUZcBSz6tYg    5.0   \n",
       "4    0.0  dmXXkBDSe5mm14uZw_-8BQ    5.0   \n",
       "\n",
       "                                                text    type    ...      \\\n",
       "0  always really good here every time i've been h...  review    ...       \n",
       "1  as a loyal yelper, when i am on the road i do ...  review    ...       \n",
       "2  yelp led me here while vacationing in arizona....  review    ...       \n",
       "3  everything is so so delicious here!! my first ...  review    ...       \n",
       "4  i have been here about four times for lunch ov...  review    ...       \n",
       "\n",
       "   user_received_useful sentiment_score  environment_score  other_score  \\\n",
       "0                   151          0.9714          -0.047619     0.000000   \n",
       "1                  1692          0.9632           0.009302     0.046512   \n",
       "2                     6          0.9334           0.166667     0.000000   \n",
       "3                    43          0.9799           0.000000     0.000000   \n",
       "4                   650          0.9686           0.000000    -0.062500   \n",
       "\n",
       "   price_score food_score service_score   ex_id  useful_label  review_NB  \n",
       "0     0.022222   0.021128     -0.005528  116151             1   0.555060  \n",
       "1     0.026316   0.057214      0.059302  115748             1   0.690830  \n",
       "2     0.000000   0.250000      0.000000  115827             1   0.459436  \n",
       "3     0.000000   0.000000      0.000000    1694             0   0.412501  \n",
       "4     0.000000   0.021739      0.086957  119151             1   0.519968  \n",
       "\n",
       "[5 rows x 52 columns]"
      ]
     },
     "execution_count": 155,
     "metadata": {},
     "output_type": "execute_result"
    }
   ],
   "source": [
    "df.head()"
   ]
  },
  {
   "cell_type": "code",
   "execution_count": 11,
   "metadata": {
    "collapsed": false
   },
   "outputs": [
    {
     "data": {
      "text/plain": [
       "119997    1\n",
       "119998    1\n",
       "Name: useful_label, dtype: int64"
      ]
     },
     "execution_count": 11,
     "metadata": {},
     "output_type": "execute_result"
    }
   ],
   "source": [
    "df[\"useful_label\"]=0\n",
    "df.loc[df.useful>0,'useful_label']=1\n",
    "df.loc[df.cool>0,'useful_label']=1\n",
    "df.useful_label[-3:-1]"
   ]
  },
  {
   "cell_type": "code",
   "execution_count": 529,
   "metadata": {
    "collapsed": false
   },
   "outputs": [
    {
     "data": {
      "text/plain": [
       "Index(['Unnamed: 0.1', 'Unnamed: 0.1.1', 'business_id', 'cool', 'date',\n",
       "       'funny', 'review_id', 'stars', 'text', 'type', 'useful', 'user_id',\n",
       "       'year', 'month', 'label', 'filtered_text', 'lemmatize_text',\n",
       "       'lemmatize_filtered_text', 'review_all_length',\n",
       "       'review_exceptstop_length', 'noun', 'adj', 'adv', 'verb',\n",
       "       'simple_words', 'complex_words', 'syllables', 'num_sentence',\n",
       "       'error_num', 'fog_index', 'Flesch_reading_ease_score', 'SMOG_index',\n",
       "       'fog_index_simple', 'word_length', 'business_star',\n",
       "       'business_review_count', 'city', 'user_average_stars', 'user_fans',\n",
       "       'user_friends', 'user_received_funny', 'user_received_cool',\n",
       "       'user_received_useful', 'sentiment_score', 'environment_score',\n",
       "       'other_score', 'price_score', 'food_score', 'service_score', 'ex_id',\n",
       "       'useful_label', 'review_NB', 'business_avg_star', 'star_deviation',\n",
       "       'user_days_since', 'argumentation_result', 'index', 'fact', 'value',\n",
       "       'testimony', 'policy', 'evidence_reson', 'not_evidence_reason',\n",
       "       'evidence_reason', 'relation_ratio', 'value_ratio', 'testimony_ratio',\n",
       "       'policy_ratio', 'fact_ratio'],\n",
       "      dtype='object')"
      ]
     },
     "execution_count": 529,
     "metadata": {},
     "output_type": "execute_result"
    }
   ],
   "source": [
    "df.columns"
   ]
  },
  {
   "cell_type": "code",
   "execution_count": 560,
   "metadata": {
    "collapsed": false
   },
   "outputs": [],
   "source": [
    "#Baseline=['lemmatize_filtered_text']\n",
    "Tranditional_features=['review_all_length',\n",
    "                      'review_exceptstop_length','num_sentence',\n",
    "                       'noun', 'adj', 'adv', 'verb','sentiment_score','review_NB']\n",
    "Readability_features=['error_num','fog_index','Flesch_reading_ease_score',\n",
    "                     'SMOG_index','fog_index_simple','word_length']\n",
    "Business_features=['business_review_count','business_avg_star', 'star_deviation','business_star']\n",
    "Reviewer_features=['user_average_stars', 'user_fans', 'user_received_funny', 'user_received_cool',\n",
    "       'user_received_useful','user_days_since','month']\n",
    "Aspect_features=['environment_score', 'food_score', 'service_score','other_score','price_score']\n",
    "Argumentation_features=[ \n",
    "        'fact', 'value',\n",
    "       'testimony', 'policy',  'not_evidence_reason',\n",
    "       'evidence_reason', 'relation_ratio', 'value_ratio', 'testimony_ratio',\n",
    "       'policy_ratio', 'fact_ratio']\n"
   ]
  },
  {
   "cell_type": "code",
   "execution_count": 468,
   "metadata": {
    "collapsed": false
   },
   "outputs": [
    {
     "name": "stdout",
     "output_type": "stream",
     "text": [
      "finish one 1503280754.450883\n"
     ]
    },
    {
     "name": "stderr",
     "output_type": "stream",
     "text": [
      "//anaconda/lib/python3.5/site-packages/sklearn/metrics/classification.py:1115: UndefinedMetricWarning: F-score is ill-defined and being set to 0.0 due to no true samples.\n",
      "  'recall', 'true', average, warn_for)\n",
      "//anaconda/lib/python3.5/site-packages/sklearn/metrics/classification.py:1115: UndefinedMetricWarning: Recall is ill-defined and being set to 0.0 due to no true samples.\n",
      "  'recall', 'true', average, warn_for)\n"
     ]
    },
    {
     "name": "stdout",
     "output_type": "stream",
     "text": [
      "finish one 1503280754.927758\n",
      "finish one 1503280755.3624399\n",
      "finish one 1503280755.7973309\n",
      "finish one 1503280756.252668\n",
      "finish one 1503280756.6766548\n",
      "finish one 1503280757.093904\n",
      "finish one 1503280757.569613\n",
      "finish one 1503280758.033285\n",
      "finish one 1503280758.4567978\n",
      "F1: 0.341941178205\n",
      "accuracy: 0.6274\n",
      "recall: 0.26683799069\n",
      "precision: 0.47601386746\n"
     ]
    }
   ],
   "source": [
    "kf=KFold(n_splits=10)\n",
    "\n",
    "from time import time\n",
    "params = {\n",
    "    'task': 'train',\n",
    "    'boosting_type': 'gbdt',\n",
    "    'objective': 'binary',\n",
    "    'metric': {'binary_logloss'},\n",
    "    'num_leaves': 60,\n",
    "    'max_depth': 5,\n",
    "    'feature_fraction': 0.9,\n",
    "    'bagging_fraction': 0.7,\n",
    "    'bagging_freq': 5\n",
    "}\n",
    "ROUNDS = 100\n",
    "feature=Tranditional_features+Reviewer_features\n",
    "for train_index,test_index in kf.split(df):\n",
    "        #print(train_index,test_index)\n",
    "        X_train,X_test=df.ix[train_index][feature],df.ix[test_index][feature]\n",
    "        y_train,y_test=df.ix[train_index].useful_label,df.ix[test_index].useful_label\n",
    "        #print(X_train)\n",
    "        #print(y_train)\n",
    "        d_train = lgb.Dataset(X_train,\n",
    "                      label=y_train)\n",
    "        bst = lgb.train(params, d_train, ROUNDS)\n",
    "        # lgb.plot_importance(bst, figsize=(9,20))\n",
    "        del d_train\n",
    "        pred = bst.predict(X_test)\n",
    "        pred[pred>=0.5]=1\n",
    "        pred[pred<0.5]=0\n",
    "        print('finish one',time()-start)\n",
    "        \n",
    "        F1.append(metrics.f1_score(y_test,pred))\n",
    "        accuracy.append(metrics.accuracy_score(y_test,pred))\n",
    "        recall.append(metrics.recall_score(y_test,pred))\n",
    "        precision.append(metrics.precision_score(y_test,pred))\n",
    "#print(text_clf)\n",
    "print(\"F1:\", np.mean(F1))\n",
    "print('accuracy:',np.mean(accuracy))\n",
    "print('recall:',np.mean(recall))\n",
    "print('precision:',np.mean(precision))\n",
    "        "
   ]
  },
  {
   "cell_type": "code",
   "execution_count": 561,
   "metadata": {
    "collapsed": false
   },
   "outputs": [
    {
     "name": "stdout",
     "output_type": "stream",
     "text": [
      "light GBM train :-)\n"
     ]
    },
    {
     "data": {
      "image/png": "[encoded data removed]",
      "text/plain": [
       "<matplotlib.figure.Figure at 0x10ea591d0>"
      ]
     },
     "metadata": {},
     "output_type": "display_data"
    },
    {
     "data": {
      "text/plain": [
       "<matplotlib.figure.Figure at 0x1cb39cb38>"
      ]
     },
     "metadata": {},
     "output_type": "display_data"
    }
   ],
   "source": [
    "d_train = lgb.Dataset(df[Tranditional_features+Readability_features+\n",
    "                        Business_features+Reviewer_features+Aspect_features+Argumentation_features],\n",
    "                      label=df.label)\n",
    "print('light GBM train :-)')\n",
    "bst = lgb.train(params, d_train, ROUNDS)\n",
    "# lgb.plot_importance(bst, figsize=(9,20))\n",
    "del d_train\n",
    "import matplotlib.pyplot as plt\n",
    "%matplotlib inline\n",
    "#plt.figure(figsize=(40,200))\n",
    "x = lgb.plot_importance(bst, max_num_features=40,height=0.1,importance_type='split',figsize=(5,7.2))\n",
    "plt.show()\n",
    "plt.savefig('Figure_2.pdf')"
   ]
  },
  {
   "cell_type": "code",
   "execution_count": 315,
   "metadata": {
    "collapsed": false
   },
   "outputs": [
    {
     "data": {
      "text/plain": [
       "28"
      ]
     },
     "execution_count": 315,
     "metadata": {},
     "output_type": "execute_result"
    }
   ],
   "source": [
    "len(features)"
   ]
  },
  {
   "cell_type": "code",
   "execution_count": 230,
   "metadata": {
    "collapsed": false
   },
   "outputs": [],
   "source": [
    "df.to_pickle('df_last.pickle')"
   ]
  },
  {
   "cell_type": "code",
   "execution_count": 598,
   "metadata": {
    "collapsed": true
   },
   "outputs": [],
   "source": [
    "len(Tranditional_features+Readability_features+Business_features+Reviewer_features+Aspect_features+Argumentation_features)\n",
    "features=Tranditional_features+Readability_features+Business_features+Reviewer_features+Aspect_features+Argumentation_features"
   ]
  },
  {
   "cell_type": "code",
   "execution_count": 599,
   "metadata": {
    "collapsed": false
   },
   "outputs": [
    {
     "data": {
      "text/plain": [
       "43"
      ]
     },
     "execution_count": 599,
     "metadata": {},
     "output_type": "execute_result"
    }
   ],
   "source": [
    "len(features)"
   ]
  },
  {
   "cell_type": "code",
   "execution_count": 498,
   "metadata": {
    "collapsed": false
   },
   "outputs": [
    {
     "name": "stdout",
     "output_type": "stream",
     "text": [
      "F1: 0.680106580693\n",
      "accuracy: 0.69575\n",
      "recall: 0.649914618684\n",
      "precision: 0.713327267127\n"
     ]
    }
   ],
   "source": [
    "from sklearn.feature_extraction import text\n",
    "from sklearn.naive_bayes import MultinomialNB\n",
    "from sklearn.ensemble import BaggingClassifier\n",
    "from sklearn.ensemble import AdaBoostClassifier\n",
    "from sklearn.neighbors import KNeighborsClassifier\n",
    "from sklearn.metrics import confusion_matrix\n",
    "import numpy as np\n",
    "import scipy\n",
    "from pprint import pprint\n",
    "from sklearn.pipeline import Pipeline\n",
    "from sklearn.model_selection import train_test_split\n",
    " \n",
    "\n",
    "\n",
    "import time\n",
    "text_clf = Pipeline([('vect', text.CountVectorizer()),  \n",
    "                     ('tfidf',text.TfidfTransformer()),\n",
    "                    ('clf',RandomForestClassifier(min_samples_split=8,\n",
    "                                                  bootstrap=True, \n",
    "                                                  min_samples_leaf=8, \n",
    "                                                  criterion='gini',n_estimators=50))])\n",
    "\n",
    "text_clf=RandomForestClassifier(min_samples_split=8,\n",
    "                                                  bootstrap=True, \n",
    "                                                  min_samples_leaf=8, \n",
    "                                                  criterion='gini',n_estimators=50)\n",
    "F1=[]\n",
    "accuracy=[]\n",
    "recall=[]\n",
    "precision=[]\n",
    "\n",
    "from sklearn import metrics\n",
    "\n",
    "start=time.clock()\n",
    "\n",
    "for i in range(4):\n",
    "    X_train, X_test, y_train, y_test = train_test_split(\n",
    "         df[features], df.label, test_size=0.3)\n",
    "    #print(X_train,y_train)\n",
    "    text_clf.fit(X_train, y_train)\n",
    "    pred= text_clf.predict(X_test)\n",
    "    #print(i, time.clock()-start)\n",
    "    F1.append(metrics.f1_score(y_test,pred))\n",
    "    accuracy.append(metrics.accuracy_score(y_test,pred))\n",
    "    recall.append(metrics.recall_score(y_test,pred))\n",
    "    precision.append(metrics.precision_score(y_test,pred))\n",
    "\n",
    "print(\"F1:\", np.mean(F1))\n",
    "print('accuracy:',np.mean(accuracy))\n",
    "print('recall:',np.mean(recall))\n",
    "print('precision:',np.mean(precision))"
   ]
  },
  {
   "cell_type": "code",
   "execution_count": 622,
   "metadata": {
    "collapsed": true
   },
   "outputs": [],
   "source": [
    "features=Tranditional_features+Argumentation_features"
   ]
  },
  {
   "cell_type": "code",
   "execution_count": 626,
   "metadata": {
    "collapsed": false
   },
   "outputs": [
    {
     "name": "stdout",
     "output_type": "stream",
     "text": [
      "RandomizedSearchCV took 70.91 seconds for 20 candidates parameter settings.\n",
      "Model with rank: 1\n",
      "Mean validation score: 0.656 (std: 0.002)\n",
      "Parameters: {'min_samples_split': 5, 'bootstrap': True, 'min_samples_leaf': 10, 'criterion': 'gini', 'max_depth': None}\n",
      "\n"
     ]
    }
   ],
   "source": [
    "from time import time\n",
    "from scipy.stats import randint as sp_randint\n",
    "\n",
    "from sklearn.model_selection import GridSearchCV\n",
    "from sklearn.model_selection import RandomizedSearchCV\n",
    "from sklearn.datasets import load_digits\n",
    "from sklearn.ensemble import RandomForestClassifier\n",
    "def report(results, n_top=1):\n",
    "    for i in range(1, n_top + 1):\n",
    "        candidates = np.flatnonzero(results['rank_test_score'] == i)\n",
    "        for candidate in candidates:\n",
    "            print(\"Model with rank: {0}\".format(i))\n",
    "            print(\"Mean validation score: {0:.3f} (std: {1:.3f})\".format(\n",
    "                  results['mean_test_score'][candidate],\n",
    "                  results['std_test_score'][candidate]))\n",
    "            print(\"Parameters: {0}\".format(results['params'][candidate]))\n",
    "            print(\"\")\n",
    "\n",
    "param_dist = {\"max_depth\": [3, None],\n",
    "              \"min_samples_split\": sp_randint(2, 15),\n",
    "              \"min_samples_leaf\": sp_randint(1, 11),\n",
    "              \"bootstrap\": [True, False],\n",
    "              \"criterion\": [\"gini\", \"entropy\"]}\n",
    "# run randomized search\n",
    "n_iter_search = 20\n",
    "clf = RandomForestClassifier(n_estimators=100)\n",
    "random_search = RandomizedSearchCV(clf, param_distributions=param_dist,\n",
    "                                   n_iter=n_iter_search,scoring='f1')\n",
    "\n",
    "start = time()\n",
    "random_search.fit(df[features], df['label'])\n",
    "print(\"RandomizedSearchCV took %.2f seconds for %d candidates\"\n",
    "      \" parameter settings.\" % ((time() - start), n_iter_search))\n",
    "report(random_search.cv_results_)\n"
   ]
  },
  {
   "cell_type": "code",
   "execution_count": 624,
   "metadata": {
    "collapsed": false
   },
   "outputs": [
    {
     "name": "stdout",
     "output_type": "stream",
     "text": [
      "SVMs\n",
      "RandomizedSearchCV took 129.75 seconds for 10 candidates parameter settings.\n",
      "Model with rank: 1\n",
      "Mean validation score: 0.606 (std: 0.004)\n",
      "Parameters: {'kernel': 'rbf', 'gamma': 0.0001, 'C': 0.05}\n",
      "\n"
     ]
    }
   ],
   "source": [
    "from time import time\n",
    "from scipy.stats import randint as sp_randint\n",
    "\n",
    "from sklearn.model_selection import GridSearchCV\n",
    "from sklearn.model_selection import RandomizedSearchCV\n",
    "from sklearn.datasets import load_digits\n",
    "from sklearn.ensemble import RandomForestClassifier\n",
    "def report(results, n_top=1):\n",
    "    for i in range(1, n_top + 1):\n",
    "        candidates = np.flatnonzero(results['rank_test_score'] == i)\n",
    "        for candidate in candidates:\n",
    "            print(\"Model with rank: {0}\".format(i))\n",
    "            print(\"Mean validation score: {0:.3f} (std: {1:.3f})\".format(\n",
    "                  results['mean_test_score'][candidate],\n",
    "                  results['std_test_score'][candidate]))\n",
    "            print(\"Parameters: {0}\".format(results['params'][candidate]))\n",
    "            print(\"\")\n",
    "\n",
    "param_dist = {'kernel': ['rbf'], 'gamma': [1e-4,1e-5],\n",
    "                     'C': [0.05,0.1,0.2,0.5,1,2]}\n",
    "# run randomized search\n",
    "n_iter_search = 10\n",
    "clf = svm.SVC()\n",
    "random_search = RandomizedSearchCV(clf, param_distributions=param_dist,\n",
    "                                   n_iter=n_iter_search,scoring='f1')\n",
    "\n",
    "start = time()\n",
    "random_search.fit(df[features], df['label'])\n",
    "print('SVMs')\n",
    "print(\"RandomizedSearchCV took %.2f seconds for %d candidates\"\n",
    "      \" parameter settings.\" % ((time() - start), n_iter_search))\n",
    "report(random_search.cv_results_)\n",
    "\n"
   ]
  },
  {
   "cell_type": "code",
   "execution_count": 625,
   "metadata": {
    "collapsed": false
   },
   "outputs": [
    {
     "name": "stdout",
     "output_type": "stream",
     "text": [
      "SVMs\n",
      "RandomizedSearchCV took 75.36 seconds for 20 candidates parameter settings.\n",
      "Model with rank: 1\n",
      "Mean validation score: 0.657 (std: 0.004)\n",
      "Parameters: {'n_estimators': 20, 'min_samples_split': 1000, 'max_depth': 13}\n",
      "\n"
     ]
    }
   ],
   "source": [
    "from time import time\n",
    "from scipy.stats import randint as sp_randint\n",
    "\n",
    "from sklearn.model_selection import GridSearchCV\n",
    "from sklearn.model_selection import RandomizedSearchCV\n",
    "from sklearn.datasets import load_digits\n",
    "from sklearn.ensemble import GradientBoostingClassifier\n",
    "def report(results, n_top=1):\n",
    "    for i in range(1, n_top + 1):\n",
    "        candidates = np.flatnonzero(results['rank_test_score'] == i)\n",
    "        for candidate in candidates:\n",
    "            print(\"Model with rank: {0}\".format(i))\n",
    "            print(\"Mean validation score: {0:.3f} (std: {1:.3f})\".format(\n",
    "                  results['mean_test_score'][candidate],\n",
    "                  results['std_test_score'][candidate]))\n",
    "            print(\"Parameters: {0}\".format(results['params'][candidate]))\n",
    "            print(\"\")\n",
    "\n",
    "param_dist = {'n_estimators':range(20,150,10), 'max_depth':range(3,14,2),\n",
    "             'min_samples_split':range(800,1900,200),}\n",
    "# run randomized search\n",
    "n_iter_search = 20\n",
    "clf = GradientBoostingClassifier(learning_rate=0.1)\n",
    "random_search = RandomizedSearchCV(clf, param_distributions=param_dist,\n",
    "                                   n_iter=n_iter_search,scoring='f1')\n",
    "\n",
    "start = time()\n",
    "random_search.fit(df[features], df['label'])\n",
    "print('SVMs')\n",
    "print(\"RandomizedSearchCV took %.2f seconds for %d candidates\"\n",
    "      \" parameter settings.\" % ((time() - start), n_iter_search))\n",
    "report(random_search.cv_results_)\n",
    "\n",
    "\n",
    "\n"
   ]
  },
  {
   "cell_type": "code",
   "execution_count": 572,
   "metadata": {
    "collapsed": true
   },
   "outputs": [],
   "source": [
    "def plot_feature_importances(clf, X_train, y_train=None, \n",
    "                             top_n=10, figsize=(8,8), print_table=False, title=\"Feature Importances\"):\n",
    "    '''\n",
    "    plot feature importances of a tree-based sklearn estimator\n",
    "    \n",
    "    Note: X_train and y_train are pandas DataFrames\n",
    "    \n",
    "    Note: Scikit-plot is a lovely package but I sometimes have issues\n",
    "              1. flexibility/extendibility\n",
    "              2. complicated models/datasets\n",
    "          But for many situations Scikit-plot is the way to go\n",
    "          see https://scikit-plot.readthedocs.io/en/latest/Quickstart.html\n",
    "    \n",
    "    Parameters\n",
    "    ----------\n",
    "        clf         (sklearn estimator) if not fitted, this routine will fit it\n",
    "        \n",
    "        X_train     (pandas DataFrame)\n",
    "        \n",
    "        y_train     (pandas DataFrame)  optional\n",
    "                                        required only if clf has not already been fitted \n",
    "        \n",
    "        top_n       (int)               Plot the top_n most-important features\n",
    "                                        Default: 10\n",
    "                                        \n",
    "        figsize     ((int,int))         The physical size of the plot\n",
    "                                        Default: (8,8)\n",
    "        \n",
    "        print_table (boolean)           If True, print out the table of feature importances\n",
    "                                        Default: False\n",
    "        \n",
    "    Returns\n",
    "    -------\n",
    "        the pandas dataframe with the features and their importance\n",
    "        \n",
    "    Author\n",
    "    ------\n",
    "        George Fisher\n",
    "    '''\n",
    "    \n",
    "    __name__ = \"plot_feature_importances\"\n",
    "    \n",
    "    import pandas as pd\n",
    "    import numpy  as np\n",
    "    import matplotlib.pyplot as plt\n",
    "    \n",
    "    from xgboost.core     import XGBoostError\n",
    "    from lightgbm.sklearn import LightGBMError\n",
    "    \n",
    "    try: \n",
    "        if not hasattr(clf, 'feature_importances_'):\n",
    "            clf.fit(X_train.values, y_train.values.ravel())\n",
    "\n",
    "            if not hasattr(clf, 'feature_importances_'):\n",
    "                raise AttributeError(\"{} does not have feature_importances_ attribute\".\n",
    "                                    format(clf.__class__.__name__))\n",
    "                \n",
    "    except (XGBoostError, LightGBMError, ValueError):\n",
    "        clf.fit(X_train.values, y_train.values.ravel())\n",
    "            \n",
    "    feat_imp = pd.DataFrame({'importance':clf.feature_importances_})    \n",
    "    feat_imp['feature'] = X_train.columns\n",
    "    feat_imp.sort_values(by='importance', ascending=False, inplace=True)\n",
    "    feat_imp = feat_imp.iloc[:top_n]\n",
    "    \n",
    "    feat_imp.sort_values(by='importance', inplace=True)\n",
    "    feat_imp = feat_imp.set_index('feature', drop=True)\n",
    "    feat_imp.plot.barh(title=title, figsize=figsize)\n",
    "    plt.xlabel('Feature Importance Score')\n",
    "    plt.show()\n",
    "    \n",
    "    if print_table:\n",
    "        from IPython.display import display\n",
    "        print(\"Top {} features in descending order of importance\".format(top_n))\n",
    "        display(feat_imp.sort_values(by='importance', ascending=False))\n",
    "        \n",
    "    return feat_imp"
   ]
  },
  {
   "cell_type": "code",
   "execution_count": 573,
   "metadata": {
    "collapsed": false
   },
   "outputs": [
    {
     "data": {
      "image/png": "[encoded data removed]",
      "text/plain": [
       "<matplotlib.figure.Figure at 0x12f3b0518>"
      ]
     },
     "metadata": {},
     "output_type": "display_data"
    }
   ],
   "source": [
    "df_a=plot_feature_importances(clf,df[features],df.label, top_n=df[features].shape[1], title=clf.__class__.__name__)"
   ]
  },
  {
   "cell_type": "code",
   "execution_count": 574,
   "metadata": {
    "collapsed": false
   },
   "outputs": [
    {
     "data": {
      "text/plain": [
       "43"
      ]
     },
     "execution_count": 574,
     "metadata": {},
     "output_type": "execute_result"
    }
   ],
   "source": [
    "len(features)"
   ]
  },
  {
   "cell_type": "code",
   "execution_count": 601,
   "metadata": {
    "collapsed": false
   },
   "outputs": [
    {
     "data": {
      "text/html": [
       "<div>\n",
       "<table border=\"1\" class=\"dataframe\">\n",
       "  <thead>\n",
       "    <tr style=\"text-align: right;\">\n",
       "      <th></th>\n",
       "      <th>importance</th>\n",
       "    </tr>\n",
       "    <tr>\n",
       "      <th>feature</th>\n",
       "      <th></th>\n",
       "    </tr>\n",
       "  </thead>\n",
       "  <tbody>\n",
       "    <tr>\n",
       "      <th>environment_score</th>\n",
       "      <td>0.014206</td>\n",
       "    </tr>\n",
       "    <tr>\n",
       "      <th>food_score</th>\n",
       "      <td>0.038643</td>\n",
       "    </tr>\n",
       "    <tr>\n",
       "      <th>service_score</th>\n",
       "      <td>0.017112</td>\n",
       "    </tr>\n",
       "    <tr>\n",
       "      <th>other_score</th>\n",
       "      <td>0.024653</td>\n",
       "    </tr>\n",
       "    <tr>\n",
       "      <th>price_score</th>\n",
       "      <td>0.009572</td>\n",
       "    </tr>\n",
       "  </tbody>\n",
       "</table>\n",
       "</div>"
      ],
      "text/plain": [
       "                   importance\n",
       "feature                      \n",
       "environment_score    0.014206\n",
       "food_score           0.038643\n",
       "service_score        0.017112\n",
       "other_score          0.024653\n",
       "price_score          0.009572"
      ]
     },
     "execution_count": 601,
     "metadata": {},
     "output_type": "execute_result"
    }
   ],
   "source": [
    "df_a.ix[Aspect_features]"
   ]
  },
  {
   "cell_type": "code",
   "execution_count": null,
   "metadata": {
    "collapsed": true
   },
   "outputs": [],
   "source": []
  }
 ],
 "metadata": {
  "anaconda-cloud": {},
  "kernelspec": {
   "display_name": "Python [conda root]",
   "language": "python",
   "name": "conda-root-py"
  },
  "language_info": {
   "codemirror_mode": {
    "name": "ipython",
    "version": 3
   },
   "file_extension": ".py",
   "mimetype": "text/x-python",
   "name": "python",
   "nbconvert_exporter": "python",
   "pygments_lexer": "ipython3",
   "version": "3.5.2"
  }
 },
 "nbformat": 4,
 "nbformat_minor": 1
}

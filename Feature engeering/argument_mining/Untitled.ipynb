{
 "cells": [
  {
   "cell_type": "code",
   "execution_count": 1,
   "metadata": {
    "collapsed": true
   },
   "outputs": [],
   "source": [
    "from tqdm import tqdm\n",
    "import pandas as pd"
   ]
  },
  {
   "cell_type": "code",
   "execution_count": 2,
   "metadata": {
    "collapsed": false
   },
   "outputs": [],
   "source": [
    "!export MARSEILLE_CORENLP_PATH='\\User\\Downloads\\corenlp'\n",
    "!export MARSEILLE_WINGNUS_PATH='\\User\\Downloads\\pdtb-parser'"
   ]
  },
  {
   "cell_type": "code",
   "execution_count": 3,
   "metadata": {
    "collapsed": false
   },
   "outputs": [
    {
     "name": "stdout",
     "output_type": "stream",
     "text": [
      "2017-08-18 15:12:50,313 - root - INFO - Running CoreNLP...\n",
      "Traceback (most recent call last):\n",
      "  File \"//anaconda/lib/python3.5/runpy.py\", line 184, in _run_module_as_main\n",
      "    \"__main__\", mod_spec)\n",
      "  File \"//anaconda/lib/python3.5/runpy.py\", line 85, in _run_code\n",
      "    exec(code, run_globals)\n",
      "  File \"/Users/FanYxxx/Downloads/marseille-master/marseille/features.py\", line 602, in <module>\n",
      "    doc = Doc(template.format(idx))\n",
      "  File \"/Users/FanYxxx/Downloads/marseille-master/marseille/user_doc.py\", line 70, in __init__\n",
      "    _corenlp_process(filename + \".txt\")\n",
      "  File \"/Users/FanYxxx/Downloads/marseille-master/marseille/user_doc.py\", line 26, in _corenlp_process\n",
      "    raise ValueError(\"CoreNLP failed: {}\".format(result.stderr.decode()))\n",
      "ValueError: CoreNLP failed: 错误: 找不到或无法加载主类 edu.stanford.nlp.pipeline.StanfordCoreNLP\n",
      "\n",
      "2.020501136779785\n"
     ]
    }
   ],
   "source": [
    "from time import time\n",
    "start=time()\n",
    "!python -m marseille.features user text1\\*\n",
    "print(time()-start)"
   ]
  },
  {
   "cell_type": "code",
   "execution_count": null,
   "metadata": {
    "collapsed": true
   },
   "outputs": [],
   "source": []
  }
 ],
 "metadata": {
  "anaconda-cloud": {},
  "kernelspec": {
   "display_name": "Python [conda root]",
   "language": "python",
   "name": "conda-root-py"
  },
  "language_info": {
   "codemirror_mode": {
    "name": "ipython",
    "version": 3
   },
   "file_extension": ".py",
   "mimetype": "text/x-python",
   "name": "python",
   "nbconvert_exporter": "python",
   "pygments_lexer": "ipython3",
   "version": "3.5.2"
  }
 },
 "nbformat": 4,
 "nbformat_minor": 1
}
